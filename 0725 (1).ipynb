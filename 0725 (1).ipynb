{
  "cells": [
    {
      "cell_type": "code",
      "execution_count": null,
      "metadata": {
        "id": "98GdgjYxyX1i"
      },
      "outputs": [],
      "source": [
        "#추가\n",
        "배열 = [1,2,3,4,5]"
      ]
    },
    {
      "cell_type": "code",
      "execution_count": null,
      "metadata": {
        "colab": {
          "base_uri": "https://localhost:8080/"
        },
        "id": "_nLO-YWWy2U4",
        "outputId": "e2aa04e3-091d-475a-cd27-bf5b8c572093"
      },
      "outputs": [
        {
          "name": "stdout",
          "output_type": "stream",
          "text": [
            "[1, 2, 3, 4, 5]\n"
          ]
        }
      ],
      "source": [
        "print(배열)"
      ]
    },
    {
      "cell_type": "code",
      "execution_count": null,
      "metadata": {
        "id": "UsI5a5lE0RhF"
      },
      "outputs": [],
      "source": [
        "배열.append(6)"
      ]
    },
    {
      "cell_type": "code",
      "execution_count": null,
      "metadata": {
        "colab": {
          "base_uri": "https://localhost:8080/"
        },
        "id": "-TAJ3pz70dd1",
        "outputId": "a41dbfa3-2899-4af8-a2e9-f4cc7d6df458"
      },
      "outputs": [
        {
          "name": "stdout",
          "output_type": "stream",
          "text": [
            "[1, 2, 3, 4, 5, 6]\n"
          ]
        }
      ],
      "source": [
        "print(배열)"
      ]
    },
    {
      "cell_type": "code",
      "execution_count": null,
      "metadata": {
        "colab": {
          "base_uri": "https://localhost:8080/",
          "height": 174
        },
        "id": "-wZ3GKIE0fXN",
        "outputId": "7fe92a24-8985-4d71-80d8-dec16d914419"
      },
      "outputs": [
        {
          "ename": "TypeError",
          "evalue": "ignored",
          "output_type": "error",
          "traceback": [
            "\u001b[0;31m---------------------------------------------------------------------------\u001b[0m",
            "\u001b[0;31mTypeError\u001b[0m                                 Traceback (most recent call last)",
            "\u001b[0;32m<ipython-input-7-48cd7b580f91>\u001b[0m in \u001b[0;36m<module>\u001b[0;34m()\u001b[0m\n\u001b[0;32m----> 1\u001b[0;31m \u001b[0m배열\u001b[0m\u001b[0;34m.\u001b[0m\u001b[0mappend\u001b[0m\u001b[0;34m(\u001b[0m\u001b[0;36m7\u001b[0m\u001b[0;34m,\u001b[0m\u001b[0;36m8\u001b[0m\u001b[0;34m)\u001b[0m\u001b[0;34m\u001b[0m\u001b[0;34m\u001b[0m\u001b[0m\n\u001b[0m",
            "\u001b[0;31mTypeError\u001b[0m: append() takes exactly one argument (2 given)"
          ]
        }
      ],
      "source": [
        "배열.append(7,8) #한 번에 하나만 가능"
      ]
    },
    {
      "cell_type": "code",
      "execution_count": null,
      "metadata": {
        "id": "UVUdzbBD0oW8"
      },
      "outputs": [],
      "source": [
        "배열.append([1,2]) "
      ]
    },
    {
      "cell_type": "code",
      "execution_count": null,
      "metadata": {
        "colab": {
          "base_uri": "https://localhost:8080/"
        },
        "id": "G_ceYYq8002m",
        "outputId": "50e81eda-e823-4869-a110-b24fd2e541ef"
      },
      "outputs": [
        {
          "name": "stdout",
          "output_type": "stream",
          "text": [
            "[1, 2, 3, 4, 5, 6, [1, 2]]\n"
          ]
        }
      ],
      "source": [
        "print(배열) "
      ]
    },
    {
      "cell_type": "code",
      "execution_count": null,
      "metadata": {
        "colab": {
          "base_uri": "https://localhost:8080/"
        },
        "id": "BhPt3H9t02nf",
        "outputId": "75818d40-d4bc-4a6d-ce3b-a90032ebea5e"
      },
      "outputs": [
        {
          "data": {
            "text/plain": [
              "['__add__',\n",
              " '__class__',\n",
              " '__contains__',\n",
              " '__delattr__',\n",
              " '__delitem__',\n",
              " '__dir__',\n",
              " '__doc__',\n",
              " '__eq__',\n",
              " '__format__',\n",
              " '__ge__',\n",
              " '__getattribute__',\n",
              " '__getitem__',\n",
              " '__gt__',\n",
              " '__hash__',\n",
              " '__iadd__',\n",
              " '__imul__',\n",
              " '__init__',\n",
              " '__init_subclass__',\n",
              " '__iter__',\n",
              " '__le__',\n",
              " '__len__',\n",
              " '__lt__',\n",
              " '__mul__',\n",
              " '__ne__',\n",
              " '__new__',\n",
              " '__reduce__',\n",
              " '__reduce_ex__',\n",
              " '__repr__',\n",
              " '__reversed__',\n",
              " '__rmul__',\n",
              " '__setattr__',\n",
              " '__setitem__',\n",
              " '__sizeof__',\n",
              " '__str__',\n",
              " '__subclasshook__',\n",
              " 'append',\n",
              " 'clear',\n",
              " 'copy',\n",
              " 'count',\n",
              " 'extend',\n",
              " 'index',\n",
              " 'insert',\n",
              " 'pop',\n",
              " 'remove',\n",
              " 'reverse',\n",
              " 'sort']"
            ]
          },
          "execution_count": 10,
          "metadata": {},
          "output_type": "execute_result"
        }
      ],
      "source": [
        "dir(배열)"
      ]
    },
    {
      "cell_type": "code",
      "execution_count": null,
      "metadata": {
        "id": "6wyVJ3O90_Cw"
      },
      "outputs": [],
      "source": [
        "배열2 = [3,10,19,100,1,17]"
      ]
    },
    {
      "cell_type": "code",
      "execution_count": null,
      "metadata": {
        "colab": {
          "base_uri": "https://localhost:8080/"
        },
        "id": "mmrP-8TM1tB9",
        "outputId": "47b8343a-df1c-4e7d-df31-0a354b411f26"
      },
      "outputs": [
        {
          "name": "stdout",
          "output_type": "stream",
          "text": [
            "[3, 10, 19, 100, 1, 17]\n"
          ]
        }
      ],
      "source": [
        "print(배열2)"
      ]
    },
    {
      "cell_type": "code",
      "execution_count": null,
      "metadata": {
        "id": "vEGeKwuB1uph"
      },
      "outputs": [],
      "source": [
        "배열2.sort()"
      ]
    },
    {
      "cell_type": "code",
      "execution_count": null,
      "metadata": {
        "colab": {
          "base_uri": "https://localhost:8080/"
        },
        "id": "nzJhY3NU12Kq",
        "outputId": "28a8b020-abfa-41b4-924e-21a161c1fb68"
      },
      "outputs": [
        {
          "name": "stdout",
          "output_type": "stream",
          "text": [
            "[1, 3, 10, 17, 19, 100]\n"
          ]
        }
      ],
      "source": [
        "print(배열2)"
      ]
    },
    {
      "cell_type": "code",
      "execution_count": null,
      "metadata": {
        "colab": {
          "base_uri": "https://localhost:8080/"
        },
        "id": "UrBDAsVU13xG",
        "outputId": "02aaea82-102c-485d-b203-dfbd599db43a"
      },
      "outputs": [
        {
          "name": "stdout",
          "output_type": "stream",
          "text": [
            "['z', 'c', 'd', '가', '다', '나']\n"
          ]
        }
      ],
      "source": [
        "문자열배열 = ['z','c','d','가','다','나']\n",
        "print(문자열배열)"
      ]
    },
    {
      "cell_type": "code",
      "execution_count": null,
      "metadata": {
        "colab": {
          "base_uri": "https://localhost:8080/"
        },
        "id": "vY3rTJA32Hsp",
        "outputId": "679bcc9b-a61c-4506-f30b-4a428055aa5e"
      },
      "outputs": [
        {
          "name": "stdout",
          "output_type": "stream",
          "text": [
            "['c', 'd', 'z', '가', '나', '다']\n"
          ]
        }
      ],
      "source": [
        "문자열배열.sort()\n",
        "print(문자열배열)"
      ]
    },
    {
      "cell_type": "code",
      "execution_count": null,
      "metadata": {
        "colab": {
          "base_uri": "https://localhost:8080/"
        },
        "id": "sas9KDre2LTV",
        "outputId": "ddedd1bb-eec2-45e3-a6ef-c99321d01d8b"
      },
      "outputs": [
        {
          "name": "stdout",
          "output_type": "stream",
          "text": [
            "[1, 10, 3, 'b', 'c', 'd']\n"
          ]
        }
      ],
      "source": [
        "섞인거 = [1,10,3,'b','c','d']\n",
        "print(섞인거)"
      ]
    },
    {
      "cell_type": "code",
      "execution_count": null,
      "metadata": {
        "colab": {
          "base_uri": "https://localhost:8080/",
          "height": 174
        },
        "id": "SH9fPslS2ZdO",
        "outputId": "710892a0-510c-441b-b96e-d14b23185084"
      },
      "outputs": [
        {
          "ename": "TypeError",
          "evalue": "ignored",
          "output_type": "error",
          "traceback": [
            "\u001b[0;31m---------------------------------------------------------------------------\u001b[0m",
            "\u001b[0;31mTypeError\u001b[0m                                 Traceback (most recent call last)",
            "\u001b[0;32m<ipython-input-27-a1d5e6003cd1>\u001b[0m in \u001b[0;36m<module>\u001b[0;34m()\u001b[0m\n\u001b[0;32m----> 1\u001b[0;31m \u001b[0m섞인거\u001b[0m\u001b[0;34m.\u001b[0m\u001b[0msort\u001b[0m\u001b[0;34m(\u001b[0m\u001b[0;34m)\u001b[0m\u001b[0;34m\u001b[0m\u001b[0;34m\u001b[0m\u001b[0m\n\u001b[0m",
            "\u001b[0;31mTypeError\u001b[0m: '<' not supported between instances of 'str' and 'int'"
          ]
        }
      ],
      "source": [
        "섞인거.sort()"
      ]
    },
    {
      "cell_type": "code",
      "execution_count": null,
      "metadata": {
        "colab": {
          "base_uri": "https://localhost:8080/"
        },
        "id": "wFxNTdIY2etO",
        "outputId": "1c55ef9d-7ff2-42f9-814b-811989718b54"
      },
      "outputs": [
        {
          "name": "stdout",
          "output_type": "stream",
          "text": [
            "[5, 3, 1, 6]\n"
          ]
        }
      ],
      "source": [
        "배열3 = [5,3,1,6]\n",
        "print(배열3)"
      ]
    },
    {
      "cell_type": "code",
      "execution_count": null,
      "metadata": {
        "colab": {
          "base_uri": "https://localhost:8080/"
        },
        "id": "OBwCZpbG2-iG",
        "outputId": "6347ec68-d435-46df-8a2d-ba7086e7b06c"
      },
      "outputs": [
        {
          "name": "stdout",
          "output_type": "stream",
          "text": [
            "[6, 1, 3, 5]\n"
          ]
        }
      ],
      "source": [
        "배열3.reverse()\n",
        "print(배열3)"
      ]
    },
    {
      "cell_type": "code",
      "execution_count": null,
      "metadata": {
        "colab": {
          "base_uri": "https://localhost:8080/"
        },
        "id": "QSMyn-Vv3CdT",
        "outputId": "5d0d668e-ec5c-453d-c4b5-4fc935e6de8b"
      },
      "outputs": [
        {
          "name": "stdout",
          "output_type": "stream",
          "text": [
            "[1, 10, 3, 'b', 'c', 'd']\n"
          ]
        }
      ],
      "source": [
        "섞인거2 = [1,10,3,'b','c','d']\n",
        "print(섞인거2)"
      ]
    },
    {
      "cell_type": "code",
      "execution_count": null,
      "metadata": {
        "colab": {
          "base_uri": "https://localhost:8080/"
        },
        "id": "i-u2lg6z3WUy",
        "outputId": "1845d737-2202-4cb4-e4fe-4fbcf40f48b7"
      },
      "outputs": [
        {
          "name": "stdout",
          "output_type": "stream",
          "text": [
            "['d', 'c', 'b', 3, 10, 1]\n"
          ]
        }
      ],
      "source": [
        "섞인거2.reverse()\n",
        "print(섞인거2)"
      ]
    },
    {
      "cell_type": "code",
      "execution_count": null,
      "metadata": {
        "colab": {
          "base_uri": "https://localhost:8080/"
        },
        "id": "Z4t5LQO83am4",
        "outputId": "4b9137ab-20b4-4e29-a6ed-dd23690c02a3"
      },
      "outputs": [
        {
          "name": "stdout",
          "output_type": "stream",
          "text": [
            "[1, 2, [1, 2, 3]]\n"
          ]
        }
      ],
      "source": [
        "배열4 = [1,2,[1,2,3]]\n",
        "print(배열4)"
      ]
    },
    {
      "cell_type": "code",
      "execution_count": null,
      "metadata": {
        "colab": {
          "base_uri": "https://localhost:8080/"
        },
        "id": "zBxhPH-c3ibp",
        "outputId": "ac3b4c77-3e7b-4e44-c005-20ce5687cb93"
      },
      "outputs": [
        {
          "name": "stdout",
          "output_type": "stream",
          "text": [
            "[[1, 2, 3], 2, 1]\n"
          ]
        }
      ],
      "source": [
        "배열4.reverse()\n",
        "print(배열4)"
      ]
    },
    {
      "cell_type": "code",
      "execution_count": null,
      "metadata": {
        "colab": {
          "base_uri": "https://localhost:8080/"
        },
        "id": "SRiHGNGS4Mon",
        "outputId": "c91e2e73-e2f5-474d-9eb3-d710f167d0e5"
      },
      "outputs": [
        {
          "name": "stdout",
          "output_type": "stream",
          "text": [
            "[1, 2, 3]\n",
            "[3, 2, 1]\n",
            "[[3, 2, 1], 2, 1]\n"
          ]
        }
      ],
      "source": [
        "print(배열4[0])\n",
        "배열4[0].reverse()\n",
        "print(배열4[0])\n",
        "print(배열4)"
      ]
    },
    {
      "cell_type": "code",
      "execution_count": null,
      "metadata": {
        "colab": {
          "base_uri": "https://localhost:8080/"
        },
        "id": "Pq8o3B4g-9Fy",
        "outputId": "fe83de44-cda8-4c15-afcc-0d465b2faa2b"
      },
      "outputs": [
        {
          "name": "stdout",
          "output_type": "stream",
          "text": [
            "5\n"
          ]
        }
      ],
      "source": [
        "# 배열.index(찾고자하는값)\n",
        "음식 = ['라면','떡볶이','커피','짜장면','파스타','불족','피자','치킨']\n",
        "불족인덱스 = 음식.index('불족')\n",
        "print(불족인덱스)"
      ]
    },
    {
      "cell_type": "code",
      "execution_count": null,
      "metadata": {
        "colab": {
          "base_uri": "https://localhost:8080/",
          "height": 174
        },
        "id": "70Q9s629_Efh",
        "outputId": "576f52ae-7e18-4ad1-bbd1-cb7fe9a9815a"
      },
      "outputs": [
        {
          "ename": "ValueError",
          "evalue": "ignored",
          "output_type": "error",
          "traceback": [
            "\u001b[0;31m---------------------------------------------------------------------------\u001b[0m",
            "\u001b[0;31mValueError\u001b[0m                                Traceback (most recent call last)",
            "\u001b[0;32m<ipython-input-72-01e0f5b8be94>\u001b[0m in \u001b[0;36m<module>\u001b[0;34m()\u001b[0m\n\u001b[0;32m----> 1\u001b[0;31m \u001b[0m음식\u001b[0m\u001b[0;34m.\u001b[0m\u001b[0mindex\u001b[0m\u001b[0;34m(\u001b[0m\u001b[0;34m'소고기'\u001b[0m\u001b[0;34m)\u001b[0m\u001b[0;34m\u001b[0m\u001b[0;34m\u001b[0m\u001b[0m\n\u001b[0m",
            "\u001b[0;31mValueError\u001b[0m: '소고기' is not in list"
          ]
        }
      ],
      "source": [
        "음식.index('소고기') #배열 안에 없는 값을 찾으려고하면 에러반환"
      ]
    },
    {
      "cell_type": "code",
      "execution_count": null,
      "metadata": {
        "colab": {
          "base_uri": "https://localhost:8080/"
        },
        "id": "3JmWmqCQ_3-8",
        "outputId": "5102ecc1-af8d-4dec-cd57-88e84c8cce11"
      },
      "outputs": [
        {
          "name": "stdout",
          "output_type": "stream",
          "text": [
            "['떡볶이', '커피', '짜장면', '파스타', '불족']\n"
          ]
        }
      ],
      "source": [
        "떡볶이인덱스 = 음식.index('떡볶이')\n",
        "피자이전 = 음식.index('피자')\n",
        "음식2 = 음식[떡볶이인덱스:피자이전]\n",
        "print(음식2)"
      ]
    },
    {
      "cell_type": "code",
      "execution_count": null,
      "metadata": {
        "colab": {
          "base_uri": "https://localhost:8080/"
        },
        "id": "NWlqNPafAUK2",
        "outputId": "05bdb4ca-a38b-4859-ed02-3db976458541"
      },
      "outputs": [
        {
          "name": "stdout",
          "output_type": "stream",
          "text": [
            "['라면', '떡볶이', '커피', '짜장면', '파스타', '소고기', '불족', '피자', '치킨']\n"
          ]
        }
      ],
      "source": [
        "음식.insert(불족인덱스,'소고기')\n",
        "print(음식)"
      ]
    },
    {
      "cell_type": "code",
      "execution_count": null,
      "metadata": {
        "colab": {
          "base_uri": "https://localhost:8080/",
          "height": 35
        },
        "id": "RFaMheczBK5D",
        "outputId": "3320d39d-4fb5-4c3b-b37c-c04f03ab6be0"
      },
      "outputs": [
        {
          "data": {
            "application/vnd.google.colaboratory.intrinsic+json": {
              "type": "string"
            },
            "text/plain": [
              "'치킨'"
            ]
          },
          "execution_count": 80,
          "metadata": {},
          "output_type": "execute_result"
        }
      ],
      "source": [
        "음식.pop()"
      ]
    },
    {
      "cell_type": "code",
      "execution_count": null,
      "metadata": {
        "colab": {
          "base_uri": "https://localhost:8080/"
        },
        "id": "ilkZZxxpBm7o",
        "outputId": "ab2847b0-e8ea-428b-eb85-1426a4d793f1"
      },
      "outputs": [
        {
          "name": "stdout",
          "output_type": "stream",
          "text": [
            "['라면', '떡볶이', '커피', '짜장면', '파스타', '소고기', '불족', '피자']\n"
          ]
        }
      ],
      "source": [
        "print(음식)"
      ]
    },
    {
      "cell_type": "code",
      "execution_count": null,
      "metadata": {
        "colab": {
          "base_uri": "https://localhost:8080/",
          "height": 35
        },
        "id": "R1_g-CWXBqSN",
        "outputId": "1104a13b-0c19-43f7-d6cf-9c228984e85a"
      },
      "outputs": [
        {
          "data": {
            "application/vnd.google.colaboratory.intrinsic+json": {
              "type": "string"
            },
            "text/plain": [
              "'커피'"
            ]
          },
          "execution_count": 83,
          "metadata": {},
          "output_type": "execute_result"
        }
      ],
      "source": [
        "음식.pop(2) #배열.pop(인덱스), 없으면 맨뒤값이 기본값"
      ]
    },
    {
      "cell_type": "code",
      "execution_count": null,
      "metadata": {
        "colab": {
          "base_uri": "https://localhost:8080/"
        },
        "id": "0en6YG1PByEj",
        "outputId": "f7ec5b16-cba1-471c-8b6b-fce300f6c5a4"
      },
      "outputs": [
        {
          "name": "stdout",
          "output_type": "stream",
          "text": [
            "['라면', '떡볶이', '짜장면', '파스타', '소고기', '불족', '피자']\n"
          ]
        }
      ],
      "source": [
        "print(음식)"
      ]
    },
    {
      "cell_type": "code",
      "execution_count": null,
      "metadata": {
        "id": "CXurBthTB3-o"
      },
      "outputs": [],
      "source": [
        "음식.remove('불족')"
      ]
    },
    {
      "cell_type": "code",
      "execution_count": null,
      "metadata": {
        "colab": {
          "base_uri": "https://localhost:8080/"
        },
        "id": "lJZXWZ8tCOR0",
        "outputId": "1fb3e54f-cf02-4848-c383-e852628cabfb"
      },
      "outputs": [
        {
          "name": "stdout",
          "output_type": "stream",
          "text": [
            "['라면', '떡볶이', '짜장면', '파스타', '소고기', '피자']\n"
          ]
        }
      ],
      "source": [
        "print(음식)"
      ]
    },
    {
      "cell_type": "code",
      "execution_count": null,
      "metadata": {
        "colab": {
          "base_uri": "https://localhost:8080/"
        },
        "id": "b2jvL9x8CPmW",
        "outputId": "8404818b-aac8-450b-a1e3-1a6a4ebb9178"
      },
      "outputs": [
        {
          "name": "stdout",
          "output_type": "stream",
          "text": [
            "소고기\n"
          ]
        }
      ],
      "source": [
        "꺼낸음식 = 음식.pop()\n",
        "print(꺼낸음식)"
      ]
    },
    {
      "cell_type": "code",
      "execution_count": null,
      "metadata": {
        "colab": {
          "base_uri": "https://localhost:8080/"
        },
        "id": "zAk4eRQNCW8f",
        "outputId": "c1afdca0-2346-4f04-83c8-ad5a391a4a6c"
      },
      "outputs": [
        {
          "name": "stdout",
          "output_type": "stream",
          "text": [
            "None\n"
          ]
        }
      ],
      "source": [
        "삭제 = 음식.remove('라면')\n",
        "print(삭제)"
      ]
    },
    {
      "cell_type": "code",
      "execution_count": null,
      "metadata": {
        "colab": {
          "base_uri": "https://localhost:8080/"
        },
        "id": "ScoKgAL4DBv8",
        "outputId": "5ce1be3e-b4e1-49a5-c856-ae37bb8a0132"
      },
      "outputs": [
        {
          "name": "stdout",
          "output_type": "stream",
          "text": [
            "2\n"
          ]
        }
      ],
      "source": [
        "배열5 = [1,1,1,2,3,4,4,'하이','하이',1,2]\n",
        "하이개수 = 배열5.count('하이')\n",
        "print(하이개수)"
      ]
    },
    {
      "cell_type": "code",
      "execution_count": null,
      "metadata": {
        "colab": {
          "base_uri": "https://localhost:8080/"
        },
        "id": "mSR5huOFDgQ_",
        "outputId": "269df480-123f-49b5-aabe-b4482f73c9fa"
      },
      "outputs": [
        {
          "name": "stdout",
          "output_type": "stream",
          "text": [
            "4\n"
          ]
        }
      ],
      "source": [
        "일의개수 = 배열5.count(1)\n",
        "print(일의개수)"
      ]
    },
    {
      "cell_type": "code",
      "execution_count": null,
      "metadata": {
        "colab": {
          "base_uri": "https://localhost:8080/"
        },
        "id": "g8p1uTuhDuMh",
        "outputId": "bffe2e35-aeec-4294-ade4-dfe34697298f"
      },
      "outputs": [
        {
          "name": "stdout",
          "output_type": "stream",
          "text": [
            "0\n"
          ]
        }
      ],
      "source": [
        "없는거 = 배열5.count('집행검') #없는거 가능\n",
        "print(없는거)"
      ]
    },
    {
      "cell_type": "code",
      "execution_count": null,
      "metadata": {
        "colab": {
          "base_uri": "https://localhost:8080/"
        },
        "id": "r9SpCI_jD5Pn",
        "outputId": "a5190047-d6d5-4805-d659-425dc7397a45"
      },
      "outputs": [
        {
          "name": "stdout",
          "output_type": "stream",
          "text": [
            "[1, 2, 3, 4, 5, 6] 배열6\n",
            "[4, 5, 6] 배열7\n"
          ]
        }
      ],
      "source": [
        "배열6 = [1,2,3]\n",
        "배열7 = [4,5,6]\n",
        "배열6.extend(배열7)\n",
        "print(배열6,\"배열6\")\n",
        "print(배열7,\"배열7\")"
      ]
    },
    {
      "cell_type": "code",
      "execution_count": null,
      "metadata": {
        "colab": {
          "base_uri": "https://localhost:8080/"
        },
        "id": "RirMxvhGEst1",
        "outputId": "c95aeb91-7323-4eb3-c7b0-80debcafe868"
      },
      "outputs": [
        {
          "name": "stdout",
          "output_type": "stream",
          "text": [
            "[1, 2, 3] 배열8\n",
            "[1, 2, 3] 배열9\n",
            "[1, 2, 3] 배열8\n",
            "[10, 2, 3] 배열9\n"
          ]
        }
      ],
      "source": [
        "배열8 = [1,2,3]\n",
        "배열9 = 배열8.copy()\n",
        "print(배열8,\"배열8\")\n",
        "print(배열9,\"배열9\")\n",
        "배열9[0] = 10\n",
        "print(배열8,\"배열8\")\n",
        "print(배열9,\"배열9\")"
      ]
    },
    {
      "cell_type": "code",
      "execution_count": null,
      "metadata": {
        "colab": {
          "base_uri": "https://localhost:8080/"
        },
        "id": "ilDPt1aaFhUK",
        "outputId": "078ece0f-4157-4481-b6aa-642dc1d1c0e6"
      },
      "outputs": [
        {
          "name": "stdout",
          "output_type": "stream",
          "text": [
            "[1, 2, 3, 4, 5] 클리어 이전\n",
            "[] 클리어 후\n"
          ]
        }
      ],
      "source": [
        "배열10 = [1,2,3,4,5]\n",
        "print(배열10,\"클리어 이전\")\n",
        "배열10.clear()\n",
        "print(배열10,\"클리어 후\")"
      ]
    },
    {
      "cell_type": "code",
      "execution_count": null,
      "metadata": {
        "colab": {
          "base_uri": "https://localhost:8080/"
        },
        "id": "g-0qJ6X2Qgkl",
        "outputId": "eb09f156-df03-41ba-81de-4bb99aba805d"
      },
      "outputs": [
        {
          "name": "stdout",
          "output_type": "stream",
          "text": [
            "<class 'list'>\n"
          ]
        }
      ],
      "source": [
        "print(type(배열))"
      ]
    },
    {
      "cell_type": "code",
      "execution_count": null,
      "metadata": {
        "colab": {
          "base_uri": "https://localhost:8080/"
        },
        "id": "zcAh12apHIea",
        "outputId": "54aad151-4d67-4a2c-a620-1fe46df26fea"
      },
      "outputs": [
        {
          "name": "stdout",
          "output_type": "stream",
          "text": [
            "(1, 2, 3)\n"
          ]
        }
      ],
      "source": [
        "튜플 = (1,2,3)\n",
        "print(튜플)"
      ]
    },
    {
      "cell_type": "code",
      "execution_count": null,
      "metadata": {
        "colab": {
          "base_uri": "https://localhost:8080/"
        },
        "id": "WelqUte3Htxz",
        "outputId": "fc3b9138-7b33-4d29-e48c-3827d3f9add5"
      },
      "outputs": [
        {
          "name": "stdout",
          "output_type": "stream",
          "text": [
            "1\n"
          ]
        }
      ],
      "source": [
        "print(튜플[0])"
      ]
    },
    {
      "cell_type": "code",
      "execution_count": null,
      "metadata": {
        "colab": {
          "base_uri": "https://localhost:8080/",
          "height": 174
        },
        "id": "84zMykuaHwLy",
        "outputId": "0368e509-fa4b-44d8-da0d-02ccc48b8567"
      },
      "outputs": [
        {
          "ename": "TypeError",
          "evalue": "ignored",
          "output_type": "error",
          "traceback": [
            "\u001b[0;31m---------------------------------------------------------------------------\u001b[0m",
            "\u001b[0;31mTypeError\u001b[0m                                 Traceback (most recent call last)",
            "\u001b[0;32m<ipython-input-107-8ffd98b27ea3>\u001b[0m in \u001b[0;36m<module>\u001b[0;34m()\u001b[0m\n\u001b[0;32m----> 1\u001b[0;31m \u001b[0m튜플\u001b[0m\u001b[0;34m[\u001b[0m\u001b[0;36m2\u001b[0m\u001b[0;34m]\u001b[0m \u001b[0;34m=\u001b[0m \u001b[0;36m10\u001b[0m\u001b[0;34m\u001b[0m\u001b[0;34m\u001b[0m\u001b[0m\n\u001b[0m",
            "\u001b[0;31mTypeError\u001b[0m: 'tuple' object does not support item assignment"
          ]
        }
      ],
      "source": [
        "튜플[2] = 10"
      ]
    },
    {
      "cell_type": "code",
      "execution_count": null,
      "metadata": {
        "colab": {
          "base_uri": "https://localhost:8080/"
        },
        "id": "SJP1I2bKH5Ax",
        "outputId": "65bc3f36-3f5a-46ce-e442-8b64123509d6"
      },
      "outputs": [
        {
          "name": "stdout",
          "output_type": "stream",
          "text": [
            "[1, 2, 3]\n",
            "[2, 3]\n"
          ]
        }
      ],
      "source": [
        "샘플배열 = [1,2,3]\n",
        "print(샘플배열)\n",
        "del 샘플배열[0]\n",
        "print(샘플배열)"
      ]
    },
    {
      "cell_type": "code",
      "execution_count": null,
      "metadata": {
        "colab": {
          "base_uri": "https://localhost:8080/"
        },
        "id": "8CV6aaksIExL",
        "outputId": "8d955acd-2736-4194-f28b-7bd7020a88ea"
      },
      "outputs": [
        {
          "name": "stdout",
          "output_type": "stream",
          "text": [
            "1\n"
          ]
        }
      ],
      "source": [
        "변수 = 1\n",
        "print(변수)"
      ]
    },
    {
      "cell_type": "code",
      "execution_count": null,
      "metadata": {
        "colab": {
          "base_uri": "https://localhost:8080/",
          "height": 193
        },
        "id": "OJR2o--pIM15",
        "outputId": "9ba7859b-6952-4bb1-de1f-2adb3f5db49f"
      },
      "outputs": [
        {
          "ename": "NameError",
          "evalue": "ignored",
          "output_type": "error",
          "traceback": [
            "\u001b[0;31m---------------------------------------------------------------------------\u001b[0m",
            "\u001b[0;31mNameError\u001b[0m                                 Traceback (most recent call last)",
            "\u001b[0;32m<ipython-input-110-7ed8e50badda>\u001b[0m in \u001b[0;36m<module>\u001b[0;34m()\u001b[0m\n\u001b[1;32m      1\u001b[0m \u001b[0;32mdel\u001b[0m \u001b[0m변수\u001b[0m\u001b[0;34m\u001b[0m\u001b[0;34m\u001b[0m\u001b[0m\n\u001b[0;32m----> 2\u001b[0;31m \u001b[0mprint\u001b[0m\u001b[0;34m(\u001b[0m\u001b[0m변수\u001b[0m\u001b[0;34m)\u001b[0m\u001b[0;34m\u001b[0m\u001b[0;34m\u001b[0m\u001b[0m\n\u001b[0m",
            "\u001b[0;31mNameError\u001b[0m: name '변수' is not defined"
          ]
        }
      ],
      "source": [
        "del 변수\n",
        "print(변수)"
      ]
    },
    {
      "cell_type": "code",
      "execution_count": null,
      "metadata": {
        "colab": {
          "base_uri": "https://localhost:8080/",
          "height": 174
        },
        "id": "0hkSVVoLIPT9",
        "outputId": "cfafe610-3825-4947-e274-4ac9018d12bd"
      },
      "outputs": [
        {
          "ename": "TypeError",
          "evalue": "ignored",
          "output_type": "error",
          "traceback": [
            "\u001b[0;31m---------------------------------------------------------------------------\u001b[0m",
            "\u001b[0;31mTypeError\u001b[0m                                 Traceback (most recent call last)",
            "\u001b[0;32m<ipython-input-111-8f5d138528c9>\u001b[0m in \u001b[0;36m<module>\u001b[0;34m()\u001b[0m\n\u001b[0;32m----> 1\u001b[0;31m \u001b[0;32mdel\u001b[0m \u001b[0m튜플\u001b[0m\u001b[0;34m[\u001b[0m\u001b[0;36m0\u001b[0m\u001b[0;34m]\u001b[0m\u001b[0;34m\u001b[0m\u001b[0;34m\u001b[0m\u001b[0m\n\u001b[0m",
            "\u001b[0;31mTypeError\u001b[0m: 'tuple' object doesn't support item deletion"
          ]
        }
      ],
      "source": [
        "del 튜플[0] #튜플안의 값은 삭제 안됨"
      ]
    },
    {
      "cell_type": "code",
      "execution_count": null,
      "metadata": {
        "colab": {
          "base_uri": "https://localhost:8080/"
        },
        "id": "OfoC_9-_IYQj",
        "outputId": "3cb34a44-ca50-4f45-f114-fc7a5c1e0f78"
      },
      "outputs": [
        {
          "name": "stdout",
          "output_type": "stream",
          "text": [
            "(1, 2, 3, [1, 2, 3])\n",
            "(1, 2, 3, [10, 2, 3])\n"
          ]
        }
      ],
      "source": [
        "튜플1 = (1,2,3,[1,2,3])\n",
        "print(튜플1)\n",
        "튜플1[-1][0] = 10\n",
        "print(튜플1)"
      ]
    },
    {
      "cell_type": "code",
      "execution_count": null,
      "metadata": {
        "colab": {
          "base_uri": "https://localhost:8080/"
        },
        "id": "WuQ_HD0SI29C",
        "outputId": "ebdc6029-d856-4790-b176-8db8779ad99d"
      },
      "outputs": [
        {
          "data": {
            "text/plain": [
              "(1, 2)"
            ]
          },
          "execution_count": 114,
          "metadata": {},
          "output_type": "execute_result"
        }
      ],
      "source": [
        "튜플[:2]"
      ]
    },
    {
      "cell_type": "code",
      "execution_count": null,
      "metadata": {
        "colab": {
          "base_uri": "https://localhost:8080/"
        },
        "id": "4jWBi66ZJ_xi",
        "outputId": "723ed4ae-9a35-440e-de97-7e784b67dc66"
      },
      "outputs": [
        {
          "data": {
            "text/plain": [
              "['__add__',\n",
              " '__class__',\n",
              " '__contains__',\n",
              " '__delattr__',\n",
              " '__dir__',\n",
              " '__doc__',\n",
              " '__eq__',\n",
              " '__format__',\n",
              " '__ge__',\n",
              " '__getattribute__',\n",
              " '__getitem__',\n",
              " '__getnewargs__',\n",
              " '__gt__',\n",
              " '__hash__',\n",
              " '__init__',\n",
              " '__init_subclass__',\n",
              " '__iter__',\n",
              " '__le__',\n",
              " '__len__',\n",
              " '__lt__',\n",
              " '__mul__',\n",
              " '__ne__',\n",
              " '__new__',\n",
              " '__reduce__',\n",
              " '__reduce_ex__',\n",
              " '__repr__',\n",
              " '__rmul__',\n",
              " '__setattr__',\n",
              " '__sizeof__',\n",
              " '__str__',\n",
              " '__subclasshook__',\n",
              " 'count',\n",
              " 'index']"
            ]
          },
          "execution_count": 115,
          "metadata": {},
          "output_type": "execute_result"
        }
      ],
      "source": [
        "dir(튜플)"
      ]
    },
    {
      "cell_type": "code",
      "execution_count": null,
      "metadata": {
        "colab": {
          "base_uri": "https://localhost:8080/"
        },
        "id": "vFycYf5qPXH-",
        "outputId": "e412f6e2-6e91-4b8e-dd67-1eea947c106b"
      },
      "outputs": [
        {
          "data": {
            "text/plain": [
              "3"
            ]
          },
          "execution_count": 116,
          "metadata": {},
          "output_type": "execute_result"
        }
      ],
      "source": [
        "len(튜플)"
      ]
    },
    {
      "cell_type": "code",
      "execution_count": null,
      "metadata": {
        "colab": {
          "base_uri": "https://localhost:8080/"
        },
        "id": "uj0ZuGjrQaHy",
        "outputId": "ba198fef-683f-4a88-f222-b1140c3440d6"
      },
      "outputs": [
        {
          "name": "stdout",
          "output_type": "stream",
          "text": [
            "<class 'tuple'>\n"
          ]
        }
      ],
      "source": [
        "print(type(튜플))"
      ]
    },
    {
      "cell_type": "code",
      "execution_count": null,
      "metadata": {
        "colab": {
          "base_uri": "https://localhost:8080/"
        },
        "id": "dWtEKoJ0PsXb",
        "outputId": "cf593802-e104-4e32-be51-6c6c6ee626c6"
      },
      "outputs": [
        {
          "name": "stdout",
          "output_type": "stream",
          "text": [
            "{'키': '값'}\n",
            "값\n"
          ]
        }
      ],
      "source": [
        "딕셔너리 = {'키':'값'}\n",
        "print(딕셔너리)\n",
        "print(딕셔너리['키'])"
      ]
    },
    {
      "cell_type": "code",
      "execution_count": null,
      "metadata": {
        "colab": {
          "base_uri": "https://localhost:8080/"
        },
        "id": "88iHSMalQVDR",
        "outputId": "45e1c678-3ce9-4aac-85be-6f5427cb0947"
      },
      "outputs": [
        {
          "name": "stdout",
          "output_type": "stream",
          "text": [
            "<class 'dict'>\n"
          ]
        }
      ],
      "source": [
        "print(type(딕셔너리))"
      ]
    },
    {
      "cell_type": "code",
      "execution_count": null,
      "metadata": {
        "colab": {
          "base_uri": "https://localhost:8080/"
        },
        "id": "JWt2M8P3Qmop",
        "outputId": "c7d35f66-86b5-4796-abf1-bc2e0e97df98"
      },
      "outputs": [
        {
          "name": "stdout",
          "output_type": "stream",
          "text": [
            "{'이름': '윤지환', '번호': '010-0000-0000', '성별': '남'}\n"
          ]
        }
      ],
      "source": [
        "회원정보 = {\n",
        "    '이름' : '윤지환',\n",
        "    '번호' : '010-0000-0000',\n",
        "    '성별' : '남'\n",
        "}\n",
        "print(회원정보)"
      ]
    },
    {
      "cell_type": "code",
      "execution_count": null,
      "metadata": {
        "colab": {
          "base_uri": "https://localhost:8080/"
        },
        "id": "XEtxeg3uQ9iR",
        "outputId": "b237411d-7103-4246-f8d1-cc6444526802"
      },
      "outputs": [
        {
          "name": "stdout",
          "output_type": "stream",
          "text": [
            "윤지환\n",
            "010-0000-0000\n",
            "남\n"
          ]
        }
      ],
      "source": [
        "print(회원정보['이름'])\n",
        "print(회원정보['번호'])\n",
        "print(회원정보['성별'])"
      ]
    },
    {
      "cell_type": "code",
      "execution_count": null,
      "metadata": {
        "colab": {
          "base_uri": "https://localhost:8080/",
          "height": 174
        },
        "id": "OBMac5eRRHo9",
        "outputId": "788d015f-bc44-4282-8ba0-8068b44114e6"
      },
      "outputs": [
        {
          "ename": "KeyError",
          "evalue": "ignored",
          "output_type": "error",
          "traceback": [
            "\u001b[0;31m---------------------------------------------------------------------------\u001b[0m",
            "\u001b[0;31mKeyError\u001b[0m                                  Traceback (most recent call last)",
            "\u001b[0;32m<ipython-input-126-2558eb2c1030>\u001b[0m in \u001b[0;36m<module>\u001b[0;34m()\u001b[0m\n\u001b[0;32m----> 1\u001b[0;31m \u001b[0mprint\u001b[0m\u001b[0;34m(\u001b[0m\u001b[0m회원정보\u001b[0m\u001b[0;34m[\u001b[0m\u001b[0;34m'주소'\u001b[0m\u001b[0;34m]\u001b[0m\u001b[0;34m)\u001b[0m\u001b[0;34m\u001b[0m\u001b[0;34m\u001b[0m\u001b[0m\n\u001b[0m",
            "\u001b[0;31mKeyError\u001b[0m: '주소'"
          ]
        }
      ],
      "source": [
        "print(회원정보['주소'])"
      ]
    },
    {
      "cell_type": "code",
      "execution_count": null,
      "metadata": {
        "colab": {
          "base_uri": "https://localhost:8080/"
        },
        "id": "BT8VMum8RKhO",
        "outputId": "aecbcdc9-e36d-428f-c50f-d4ce6eae38b8"
      },
      "outputs": [
        {
          "name": "stdout",
          "output_type": "stream",
          "text": [
            "{'이름': '윤지환', '번호': '010-0000-0000', '성별': '남', '주소': '제주시'}\n"
          ]
        }
      ],
      "source": [
        "회원정보['주소'] = '제주시'\n",
        "print(회원정보)"
      ]
    },
    {
      "cell_type": "code",
      "execution_count": null,
      "metadata": {
        "colab": {
          "base_uri": "https://localhost:8080/"
        },
        "id": "7Nuj7lKaRTcW",
        "outputId": "6228b7a9-7c24-4fd1-85aa-9b100c32da58"
      },
      "outputs": [
        {
          "name": "stdout",
          "output_type": "stream",
          "text": [
            "제주시\n"
          ]
        }
      ],
      "source": [
        "print(회원정보['주소'])"
      ]
    },
    {
      "cell_type": "code",
      "execution_count": null,
      "metadata": {
        "colab": {
          "base_uri": "https://localhost:8080/"
        },
        "id": "ndbP2wXqRV0L",
        "outputId": "3c30cb62-38e9-495e-8e6b-53447a55fcb6"
      },
      "outputs": [
        {
          "name": "stdout",
          "output_type": "stream",
          "text": [
            "{'이름': '윤지환', '번호': '010-0000-0001', '성별': '남', '주소': '제주시'}\n"
          ]
        }
      ],
      "source": [
        "회원정보['번호'] = '010-0000-0001'\n",
        "print(회원정보)"
      ]
    },
    {
      "cell_type": "code",
      "execution_count": null,
      "metadata": {
        "colab": {
          "base_uri": "https://localhost:8080/"
        },
        "id": "TPcaJN7LRjeQ",
        "outputId": "4d3e7b9f-c371-458e-97a5-ae09505ace2e"
      },
      "outputs": [
        {
          "name": "stdout",
          "output_type": "stream",
          "text": [
            "{'이름': '윤지환', '번호': '010-0000-0000', '성별': '남', '주소': '제주시'}\n"
          ]
        }
      ],
      "source": [
        "회원정보2 = {'이름': '윤지환',\n",
        "         '번호': '010-0000-0001',\n",
        "         '성별': '남',\n",
        "         '주소': '제주시',\n",
        "         '번호': '010-0000-0000'\n",
        "         }\n",
        "print(회원정보2) #중복되는 키 허용 x"
      ]
    },
    {
      "cell_type": "code",
      "execution_count": null,
      "metadata": {
        "colab": {
          "base_uri": "https://localhost:8080/"
        },
        "id": "bdMtf1ETR2cY",
        "outputId": "cb60a6a1-711b-430c-9f78-9e197fc2cc02"
      },
      "outputs": [
        {
          "data": {
            "text/plain": [
              "dict_keys(['이름', '번호', '성별', '주소'])"
            ]
          },
          "execution_count": 136,
          "metadata": {},
          "output_type": "execute_result"
        }
      ],
      "source": [
        "회원정보.keys()"
      ]
    },
    {
      "cell_type": "code",
      "execution_count": null,
      "metadata": {
        "colab": {
          "base_uri": "https://localhost:8080/"
        },
        "id": "dIhJTCIXSIAv",
        "outputId": "8b0ce17f-2b56-4e53-b417-0549a95bd8e1"
      },
      "outputs": [
        {
          "data": {
            "text/plain": [
              "['__class__',\n",
              " '__contains__',\n",
              " '__delattr__',\n",
              " '__delitem__',\n",
              " '__dir__',\n",
              " '__doc__',\n",
              " '__eq__',\n",
              " '__format__',\n",
              " '__ge__',\n",
              " '__getattribute__',\n",
              " '__getitem__',\n",
              " '__gt__',\n",
              " '__hash__',\n",
              " '__init__',\n",
              " '__init_subclass__',\n",
              " '__iter__',\n",
              " '__le__',\n",
              " '__len__',\n",
              " '__lt__',\n",
              " '__ne__',\n",
              " '__new__',\n",
              " '__reduce__',\n",
              " '__reduce_ex__',\n",
              " '__repr__',\n",
              " '__setattr__',\n",
              " '__setitem__',\n",
              " '__sizeof__',\n",
              " '__str__',\n",
              " '__subclasshook__',\n",
              " 'clear',\n",
              " 'copy',\n",
              " 'fromkeys',\n",
              " 'get',\n",
              " 'items',\n",
              " 'keys',\n",
              " 'pop',\n",
              " 'popitem',\n",
              " 'setdefault',\n",
              " 'update',\n",
              " 'values']"
            ]
          },
          "execution_count": 137,
          "metadata": {},
          "output_type": "execute_result"
        }
      ],
      "source": [
        "dir(회원정보)"
      ]
    },
    {
      "cell_type": "code",
      "execution_count": null,
      "metadata": {
        "colab": {
          "base_uri": "https://localhost:8080/"
        },
        "id": "JmrCrdnVSOu4",
        "outputId": "e2249246-60ca-41bb-b123-a1bf5ebc458c"
      },
      "outputs": [
        {
          "name": "stdout",
          "output_type": "stream",
          "text": [
            "dict_keys(['이름', '번호', '성별', '주소']) 키\n",
            "dict_values(['윤지환', '010-0000-0001', '남', '제주시']) 값\n"
          ]
        }
      ],
      "source": [
        "회원정보키 = 회원정보.keys()\n",
        "회원정보값 = 회원정보.values()\n",
        "print(회원정보키,\"키\")\n",
        "print(회원정보값,\"값\")"
      ]
    },
    {
      "cell_type": "code",
      "execution_count": null,
      "metadata": {
        "colab": {
          "base_uri": "https://localhost:8080/"
        },
        "id": "5lKwrmPGSXwx",
        "outputId": "90013ba4-8edb-465e-aca5-2bc50bfc52dd"
      },
      "outputs": [
        {
          "name": "stdout",
          "output_type": "stream",
          "text": [
            "윤지환 get이용\n",
            "윤지환 key이용하여 가져옴\n"
          ]
        }
      ],
      "source": [
        "이름get = 회원정보.get('이름')\n",
        "이름 = 회원정보['이름']\n",
        "print(이름get,'get이용')\n",
        "print(이름,'key이용하여 가져옴')"
      ]
    },
    {
      "cell_type": "code",
      "execution_count": null,
      "metadata": {
        "id": "WVGaBLstTBfj"
      },
      "outputs": [],
      "source": [
        "샘플딕셔너리 = {\n",
        "          \"배열1\":[1,2,3]\n",
        "}\n",
        "배열get = 샘플딕셔너리.get(\"배열\") #없는 키값은 None으로 없다고 알려줌"
      ]
    },
    {
      "cell_type": "code",
      "execution_count": null,
      "metadata": {
        "colab": {
          "base_uri": "https://localhost:8080/"
        },
        "id": "1AFtuYqdTvg0",
        "outputId": "67fc7070-19e2-4562-d030-14ac4c08b7f3"
      },
      "outputs": [
        {
          "name": "stdout",
          "output_type": "stream",
          "text": [
            "None\n"
          ]
        }
      ],
      "source": [
        "print(배열get)"
      ]
    },
    {
      "cell_type": "code",
      "execution_count": null,
      "metadata": {
        "colab": {
          "base_uri": "https://localhost:8080/"
        },
        "id": "qriOWcsfT4N_",
        "outputId": "890c5e39-a1cd-4ae6-d9a1-536c6cc4a78e"
      },
      "outputs": [
        {
          "data": {
            "text/plain": [
              "True"
            ]
          },
          "execution_count": 155,
          "metadata": {},
          "output_type": "execute_result"
        }
      ],
      "source": [
        "'이름' in 회원정보"
      ]
    },
    {
      "cell_type": "code",
      "execution_count": null,
      "metadata": {
        "colab": {
          "base_uri": "https://localhost:8080/"
        },
        "id": "B20rg1qKUPep",
        "outputId": "86a096b4-e811-4fe2-83eb-bda57c233273"
      },
      "outputs": [
        {
          "data": {
            "text/plain": [
              "False"
            ]
          },
          "execution_count": 156,
          "metadata": {},
          "output_type": "execute_result"
        }
      ],
      "source": [
        "'직업' in 회원정보"
      ]
    },
    {
      "cell_type": "code",
      "execution_count": null,
      "metadata": {
        "colab": {
          "base_uri": "https://localhost:8080/"
        },
        "id": "SILV0CQLUS1b",
        "outputId": "fb9210d3-67ef-429e-a60b-0d161bf7c963"
      },
      "outputs": [
        {
          "name": "stdout",
          "output_type": "stream",
          "text": [
            "True\n"
          ]
        }
      ],
      "source": [
        "print(True)"
      ]
    },
    {
      "cell_type": "code",
      "execution_count": null,
      "metadata": {
        "colab": {
          "base_uri": "https://localhost:8080/"
        },
        "id": "IwoeatUcUrCx",
        "outputId": "0566d77c-6741-4af1-97d4-d0e11e0165e0"
      },
      "outputs": [
        {
          "name": "stdout",
          "output_type": "stream",
          "text": [
            "<class 'bool'>\n"
          ]
        }
      ],
      "source": [
        "print(type(True))"
      ]
    },
    {
      "cell_type": "code",
      "execution_count": null,
      "metadata": {
        "colab": {
          "base_uri": "https://localhost:8080/"
        },
        "id": "Pcp-HvyUUvPp",
        "outputId": "0e3c569c-1451-4182-b74a-da0e39552cb0"
      },
      "outputs": [
        {
          "name": "stdout",
          "output_type": "stream",
          "text": [
            "False\n"
          ]
        }
      ],
      "source": [
        "print(False)"
      ]
    },
    {
      "cell_type": "code",
      "execution_count": null,
      "metadata": {
        "colab": {
          "base_uri": "https://localhost:8080/"
        },
        "id": "rX0kM1MJU36n",
        "outputId": "6245e69b-c628-497a-e4dc-51445377e083"
      },
      "outputs": [
        {
          "name": "stdout",
          "output_type": "stream",
          "text": [
            "<class 'bool'>\n"
          ]
        }
      ],
      "source": [
        "print(type(False))"
      ]
    },
    {
      "cell_type": "code",
      "execution_count": null,
      "metadata": {
        "id": "JLzG9rLEU5y3"
      },
      "outputs": [],
      "source": [
        "숫자1 = 10\n",
        "숫자2 = 20"
      ]
    },
    {
      "cell_type": "code",
      "execution_count": null,
      "metadata": {
        "colab": {
          "base_uri": "https://localhost:8080/"
        },
        "id": "E2esZEzFVLFX",
        "outputId": "eb479f99-2dd4-4147-b8ad-36f1eb219136"
      },
      "outputs": [
        {
          "name": "stdout",
          "output_type": "stream",
          "text": [
            "True\n"
          ]
        }
      ],
      "source": [
        "결과1 = 숫자1 < 숫자2\n",
        "print(결과1)"
      ]
    },
    {
      "cell_type": "code",
      "execution_count": null,
      "metadata": {
        "colab": {
          "base_uri": "https://localhost:8080/"
        },
        "id": "gKWwvlU8VSTu",
        "outputId": "56fc71d9-c8ca-42d6-daa9-6da5c79090e7"
      },
      "outputs": [
        {
          "name": "stdout",
          "output_type": "stream",
          "text": [
            "False\n"
          ]
        }
      ],
      "source": [
        "결과2 = 숫자1 > 숫자2\n",
        "print(결과2)"
      ]
    },
    {
      "cell_type": "code",
      "execution_count": null,
      "metadata": {
        "id": "wYMxV4cSVfhC"
      },
      "outputs": [],
      "source": [
        "결과3 = 숫자1 >= 숫자2\n",
        "결과4 = 숫자1 <= 숫자2\n",
        "결과5 = 숫자1 == 숫자2\n",
        "결과6 = 숫자1 != 숫자2"
      ]
    },
    {
      "cell_type": "code",
      "execution_count": null,
      "metadata": {
        "colab": {
          "base_uri": "https://localhost:8080/"
        },
        "id": "GPvCsVBqVuFB",
        "outputId": "7b47d3a4-525b-4cf4-dd5f-baa7b2451e85"
      },
      "outputs": [
        {
          "name": "stdout",
          "output_type": "stream",
          "text": [
            "False\n",
            "True\n",
            "False\n",
            "True\n"
          ]
        }
      ],
      "source": [
        "print(결과3)\n",
        "print(결과4)\n",
        "print(결과5)\n",
        "print(결과6)"
      ]
    },
    {
      "cell_type": "code",
      "execution_count": null,
      "metadata": {
        "id": "XmsJA-UkV2t_"
      },
      "outputs": [],
      "source": [
        "# if True/False가 들어간다\n",
        "if False:\n",
        "    pirnt(\"거짓입니다.\")"
      ]
    },
    {
      "cell_type": "code",
      "execution_count": null,
      "metadata": {
        "colab": {
          "base_uri": "https://localhost:8080/"
        },
        "id": "E_arwvnOWoz1",
        "outputId": "f16fcbe6-a630-46d2-9d2f-c13e2451e071"
      },
      "outputs": [
        {
          "name": "stdout",
          "output_type": "stream",
          "text": [
            "참입니다.\n"
          ]
        }
      ],
      "source": [
        "if True:\n",
        "    print(\"참입니다.\")"
      ]
    },
    {
      "cell_type": "code",
      "execution_count": null,
      "metadata": {
        "colab": {
          "base_uri": "https://localhost:8080/"
        },
        "id": "rSpdEM2xWuxG",
        "outputId": "5baa0520-2bd7-4a2b-8f62-0acf6436558d"
      },
      "outputs": [
        {
          "data": {
            "text/plain": [
              "False"
            ]
          },
          "execution_count": 174,
          "metadata": {},
          "output_type": "execute_result"
        }
      ],
      "source": [
        "not True"
      ]
    },
    {
      "cell_type": "code",
      "execution_count": null,
      "metadata": {
        "colab": {
          "base_uri": "https://localhost:8080/"
        },
        "id": "0T4RXzGkW3jM",
        "outputId": "35b6ab77-cfce-4a6f-9cc4-dcd3c49e7acc"
      },
      "outputs": [
        {
          "name": "stdout",
          "output_type": "stream",
          "text": [
            "거짓입니다.\n"
          ]
        }
      ],
      "source": [
        "if not False:\n",
        "    print(\"거짓입니다.\")\n",
        "else:\n",
        "    print(\"조건에 맞는것이 없습니다.\")"
      ]
    },
    {
      "cell_type": "code",
      "execution_count": null,
      "metadata": {
        "colab": {
          "base_uri": "https://localhost:8080/"
        },
        "id": "qmpuAPamW_Yh",
        "outputId": "44409cae-c2a2-4782-a601-0d69ccc99b1e"
      },
      "outputs": [
        {
          "name": "stdout",
          "output_type": "stream",
          "text": [
            "거짓입니다.\n"
          ]
        }
      ],
      "source": [
        "조건 = False\n",
        "if not 조건:\n",
        "    print(\"거짓입니다.\")\n",
        "else:\n",
        "    print(\"조건에 맞는것이 없습니다.\")"
      ]
    },
    {
      "cell_type": "code",
      "execution_count": null,
      "metadata": {
        "colab": {
          "base_uri": "https://localhost:8080/"
        },
        "id": "cwQ0azNDXWLP",
        "outputId": "f43fd992-5d4c-4ff8-ff1e-e7cd36e7f714"
      },
      "outputs": [
        {
          "name": "stdout",
          "output_type": "stream",
          "text": [
            "조건에 맞는것이 없습니다.\n"
          ]
        }
      ],
      "source": [
        "조건 = True\n",
        "if not 조건:\n",
        "    print(\"거짓입니다.\")\n",
        "else:\n",
        "    print(\"조건에 맞는것이 없습니다.\")"
      ]
    },
    {
      "cell_type": "code",
      "execution_count": null,
      "metadata": {
        "colab": {
          "base_uri": "https://localhost:8080/"
        },
        "id": "NhgliefFXYua",
        "outputId": "37acd82e-bc4b-4d94-db0d-b6b1754608c0"
      },
      "outputs": [
        {
          "name": "stdout",
          "output_type": "stream",
          "text": [
            "숫자2가 11보다 작습니다.\n"
          ]
        }
      ],
      "source": [
        "숫자1 = 1\n",
        "숫자2 = 10\n",
        "숫자3 = 15\n",
        "if 숫자1>5:\n",
        "  print(\"숫자1이 5보다 큽니다.\")\n",
        "elif 숫자2<11:\n",
        "  print(\"숫자2가 11보다 작습니다.\")\n",
        "else:\n",
        "  print(숫자3, \"마지막숫자입니다\")"
      ]
    },
    {
      "cell_type": "code",
      "execution_count": null,
      "metadata": {
        "colab": {
          "base_uri": "https://localhost:8080/"
        },
        "id": "CWX0ZH5RYBgf",
        "outputId": "e6b5aa69-68c0-476d-d28c-29b787e3f800"
      },
      "outputs": [
        {
          "name": "stdout",
          "output_type": "stream",
          "text": [
            "False\n"
          ]
        }
      ],
      "source": [
        "print(False and False)"
      ]
    },
    {
      "cell_type": "code",
      "execution_count": null,
      "metadata": {
        "colab": {
          "base_uri": "https://localhost:8080/"
        },
        "id": "xrBJX5TYZC1O",
        "outputId": "3cdf7329-b731-4a89-9624-1a8be6eadf34"
      },
      "outputs": [
        {
          "name": "stdout",
          "output_type": "stream",
          "text": [
            "False\n"
          ]
        }
      ],
      "source": [
        "print(True and False)"
      ]
    },
    {
      "cell_type": "code",
      "execution_count": null,
      "metadata": {
        "colab": {
          "base_uri": "https://localhost:8080/"
        },
        "id": "rSqKPaYHZE_I",
        "outputId": "1b274ef7-8f75-4b6d-bbcf-2df23061df8c"
      },
      "outputs": [
        {
          "name": "stdout",
          "output_type": "stream",
          "text": [
            "True\n"
          ]
        }
      ],
      "source": [
        "print(True or False)"
      ]
    },
    {
      "cell_type": "code",
      "execution_count": null,
      "metadata": {
        "colab": {
          "base_uri": "https://localhost:8080/"
        },
        "id": "e5YAhF7YZKW8",
        "outputId": "9a98a4b5-411b-45b1-c6ad-c6a5169d88ce"
      },
      "outputs": [
        {
          "name": "stdout",
          "output_type": "stream",
          "text": [
            "숫자1이 5보다 큽니다, 또는 숫자2가 11보다 작습니다\n"
          ]
        }
      ],
      "source": [
        "숫자1 = 1\n",
        "숫자2 = 10\n",
        "숫자3 = 15\n",
        "if 숫자1>5 or 숫자2<11:\n",
        "  print(\"숫자1이 5보다 큽니다, 또는 숫자2가 11보다 작습니다\")\n",
        "elif 숫자2<11:\n",
        "  print(\"숫자2가 11보다 작습니다.\")\n",
        "else:\n",
        "  print(숫자3, \"마지막숫자입니다\")"
      ]
    },
    {
      "cell_type": "code",
      "execution_count": null,
      "metadata": {
        "colab": {
          "base_uri": "https://localhost:8080/"
        },
        "id": "WbRs3EecZcJv",
        "outputId": "d2282e6d-5187-4ea2-b0ea-7aa853f701dc"
      },
      "outputs": [
        {
          "name": "stdout",
          "output_type": "stream",
          "text": [
            "10\n"
          ]
        }
      ],
      "source": [
        "입력받은값 = input()"
      ]
    },
    {
      "cell_type": "code",
      "execution_count": null,
      "metadata": {
        "colab": {
          "base_uri": "https://localhost:8080/"
        },
        "id": "RUXgLncSZvZA",
        "outputId": "93d2d4a9-0d87-490b-bba9-525448100c82"
      },
      "outputs": [
        {
          "name": "stdout",
          "output_type": "stream",
          "text": [
            "10\n"
          ]
        }
      ],
      "source": [
        "print(입력받은값)"
      ]
    },
    {
      "cell_type": "code",
      "execution_count": null,
      "metadata": {
        "colab": {
          "base_uri": "https://localhost:8080/",
          "height": 137
        },
        "id": "9rgl98hQZ5Y6",
        "outputId": "4abad17c-59e8-484c-a6cf-60c368881c0e"
      },
      "outputs": [
        {
          "ename": "SyntaxError",
          "evalue": "ignored",
          "output_type": "error",
          "traceback": [
            "\u001b[0;36m  File \u001b[0;32m\"<ipython-input-196-3fe0c77c0774>\"\u001b[0;36m, line \u001b[0;32m1\u001b[0m\n\u001b[0;31m    print(입력받은값 > 5|)\u001b[0m\n\u001b[0m                    ^\u001b[0m\n\u001b[0;31mSyntaxError\u001b[0m\u001b[0;31m:\u001b[0m invalid syntax\n"
          ]
        }
      ],
      "source": [
        "print(입력받은값 > 5|)"
      ]
    },
    {
      "cell_type": "code",
      "execution_count": null,
      "metadata": {
        "colab": {
          "base_uri": "https://localhost:8080/"
        },
        "id": "fVj8ZFObZ93h",
        "outputId": "8dee236d-cf2c-43f9-ea4f-5325dd26bebe"
      },
      "outputs": [
        {
          "name": "stdout",
          "output_type": "stream",
          "text": [
            "<class 'str'>\n"
          ]
        }
      ],
      "source": [
        "print(type(입력받은값))"
      ]
    },
    {
      "cell_type": "code",
      "execution_count": null,
      "metadata": {
        "id": "fwMyk3tXadM9"
      },
      "outputs": [],
      "source": [
        "입력받은숫자 = int(입력받은값)"
      ]
    },
    {
      "cell_type": "code",
      "execution_count": null,
      "metadata": {
        "colab": {
          "base_uri": "https://localhost:8080/"
        },
        "id": "_u0MWQS4amGH",
        "outputId": "58a2948a-0967-4b8d-b1f2-8a6db7c35df0"
      },
      "outputs": [
        {
          "name": "stdout",
          "output_type": "stream",
          "text": [
            "<class 'int'>\n"
          ]
        }
      ],
      "source": [
        "print(type(입력받은숫자))"
      ]
    },
    {
      "cell_type": "code",
      "execution_count": null,
      "metadata": {
        "colab": {
          "base_uri": "https://localhost:8080/"
        },
        "id": "u-nIHMEpaoOJ",
        "outputId": "22d7615d-4643-494a-98ee-7a0b1af06dff"
      },
      "outputs": [
        {
          "name": "stdout",
          "output_type": "stream",
          "text": [
            "1\n",
            "1\n",
            "숫자가 같습니다\n"
          ]
        }
      ],
      "source": [
        "첫번째숫자 = input()\n",
        "두번째숫자 = input()\n",
        "첫번째값 =int(첫번째숫자)\n",
        "두번째값 =int(두번째숫자)\n",
        "\n",
        "if 첫번째값>두번째값:\n",
        "  print(\"첫번째숫자가 큽니다\")\n",
        "elif 첫번째값==두번째값:\n",
        "  print(\"숫자가 같습니다\")\n",
        "else:\n",
        "  print(\"두번째숫자가 큽니다.\")"
      ]
    },
    {
      "cell_type": "code",
      "execution_count": null,
      "metadata": {
        "colab": {
          "base_uri": "https://localhost:8080/"
        },
        "id": "4P_YLLrGbvv1",
        "outputId": "93e4d9d3-4e91-48c5-846b-f377d0df82ae"
      },
      "outputs": [
        {
          "name": "stdout",
          "output_type": "stream",
          "text": [
            "0\n",
            "1\n",
            "2\n",
            "3\n",
            "4\n",
            "5\n",
            "6\n",
            "7\n",
            "8\n",
            "9\n"
          ]
        }
      ],
      "source": [
        "#while True인동안:\n",
        "카운트 = 0\n",
        "while 카운트<10:\n",
        "  print(카운트)\n",
        "  카운트 = 카운트 + 1"
      ]
    },
    {
      "cell_type": "code",
      "execution_count": null,
      "metadata": {
        "colab": {
          "base_uri": "https://localhost:8080/"
        },
        "id": "-KVoYrvOfdnj",
        "outputId": "22912413-934f-41ca-902d-f67628b610e4"
      },
      "outputs": [
        {
          "name": "stdout",
          "output_type": "stream",
          "text": [
            "0\n"
          ]
        }
      ],
      "source": [
        "#while True인동안:\n",
        "카운트 = 0\n",
        "while 카운트<10:\n",
        "  print(카운트)\n",
        "  카운트 = 카운트 + 1\n",
        "  break"
      ]
    },
    {
      "cell_type": "code",
      "execution_count": null,
      "metadata": {
        "colab": {
          "base_uri": "https://localhost:8080/"
        },
        "id": "XmUofJGef1il",
        "outputId": "9daa21c0-bc21-4102-cd69-1f9e2d3c99cc"
      },
      "outputs": [
        {
          "name": "stdout",
          "output_type": "stream",
          "text": [
            "0\n",
            "1\n",
            "2\n",
            "3\n",
            "4\n",
            "5\n"
          ]
        }
      ],
      "source": [
        "카운트 = 0\n",
        "while 카운트<10:\n",
        "  print(카운트)\n",
        "  카운트 = 카운트 + 1\n",
        "  if 카운트>5:\n",
        "    break"
      ]
    },
    {
      "cell_type": "code",
      "execution_count": null,
      "metadata": {
        "colab": {
          "base_uri": "https://localhost:8080/"
        },
        "id": "cNx_ZwJEhCkj",
        "outputId": "3554da4b-3f20-4082-fa32-f69e496b4159"
      },
      "outputs": [
        {
          "name": "stdout",
          "output_type": "stream",
          "text": [
            "3\n",
            "5\n",
            "7\n",
            "9\n"
          ]
        }
      ],
      "source": [
        "카운트 = 0\n",
        "while 카운트<10:\n",
        "  카운트 = 카운트 + 1\n",
        "  if (카운트==1):\n",
        "    continue\n",
        "\n",
        "  if(카운트%2==1):\n",
        "    print(카운트)"
      ]
    },
    {
      "cell_type": "code",
      "execution_count": null,
      "metadata": {
        "colab": {
          "base_uri": "https://localhost:8080/"
        },
        "id": "jJKXnRvYhaYz",
        "outputId": "a7b4b5a4-207c-4711-e43c-e79754422100"
      },
      "outputs": [
        {
          "name": "stdout",
          "output_type": "stream",
          "text": [
            "0\n",
            "1\n",
            "2\n",
            "3\n",
            "4\n"
          ]
        }
      ],
      "source": [
        "for 숫자 in [0,1,2,3,4]:\n",
        "    print(숫자)"
      ]
    },
    {
      "cell_type": "code",
      "execution_count": null,
      "metadata": {
        "id": "RstJizJnhzaG"
      },
      "outputs": [],
      "source": [
        "레인지 = range(10)"
      ]
    },
    {
      "cell_type": "code",
      "execution_count": null,
      "metadata": {
        "colab": {
          "base_uri": "https://localhost:8080/"
        },
        "id": "73evPhEQiaAt",
        "outputId": "cab8481b-256b-453e-b129-ca7438927ecb"
      },
      "outputs": [
        {
          "name": "stdout",
          "output_type": "stream",
          "text": [
            "range(0, 10)\n"
          ]
        }
      ],
      "source": [
        "print(레인지) #순서가 있다"
      ]
    },
    {
      "cell_type": "code",
      "execution_count": null,
      "metadata": {
        "colab": {
          "base_uri": "https://localhost:8080/"
        },
        "id": "1X8AaeHeicI4",
        "outputId": "2bc847b7-9b04-4fa4-cc97-28a27e018760"
      },
      "outputs": [
        {
          "name": "stdout",
          "output_type": "stream",
          "text": [
            "1\n",
            "3\n",
            "5\n",
            "7\n",
            "9\n"
          ]
        }
      ],
      "source": [
        "for 숫자 in range(10):\n",
        "    if 숫자%2 == 1:\n",
        "      print(숫자)"
      ]
    },
    {
      "cell_type": "code",
      "execution_count": null,
      "metadata": {
        "colab": {
          "base_uri": "https://localhost:8080/"
        },
        "id": "y9wxH2kOisQJ",
        "outputId": "ff03d00e-3e4d-4b1d-b97c-bd2d391b4969"
      },
      "outputs": [
        {
          "name": "stdout",
          "output_type": "stream",
          "text": [
            "1 1\n",
            "1 2\n",
            "1 3\n",
            "1 4\n",
            "2 1\n",
            "2 2\n",
            "2 3\n",
            "2 4\n",
            "3 1\n",
            "3 2\n",
            "3 3\n",
            "3 4\n",
            "4 1\n",
            "4 2\n",
            "4 3\n",
            "4 4\n",
            "5 1\n",
            "5 2\n",
            "5 3\n",
            "5 4\n",
            "6 1\n",
            "6 2\n",
            "6 3\n",
            "6 4\n",
            "7 1\n",
            "7 2\n",
            "7 3\n",
            "7 4\n",
            "8 1\n",
            "8 2\n",
            "8 3\n",
            "8 4\n",
            "9 1\n",
            "9 2\n",
            "9 3\n",
            "9 4\n"
          ]
        }
      ],
      "source": [
        "for 숫자 in range(1,10):\n",
        "    for 숫자2 in range(1,5):\n",
        "      print(숫자, 숫자2)"
      ]
    },
    {
      "cell_type": "code",
      "execution_count": null,
      "metadata": {
        "colab": {
          "base_uri": "https://localhost:8080/"
        },
        "id": "7E2udGqMjOQ8",
        "outputId": "a400aea4-6dee-4708-bb62-d7da4f1e32b7"
      },
      "outputs": [
        {
          "name": "stdout",
          "output_type": "stream",
          "text": [
            "2 x 2 = 42 x 3 = 62 x 4 = 82 x 5 = 102 x 6 = 122 x 7 = 142 x 8 = 162 x 9 = 18\n",
            "\n",
            "3 x 2 = 63 x 3 = 93 x 4 = 123 x 5 = 153 x 6 = 183 x 7 = 213 x 8 = 243 x 9 = 27\n",
            "\n",
            "4 x 2 = 84 x 3 = 124 x 4 = 164 x 5 = 204 x 6 = 244 x 7 = 284 x 8 = 324 x 9 = 36\n",
            "\n",
            "5 x 2 = 105 x 3 = 155 x 4 = 205 x 5 = 255 x 6 = 305 x 7 = 355 x 8 = 405 x 9 = 45\n",
            "\n",
            "6 x 2 = 126 x 3 = 186 x 4 = 246 x 5 = 306 x 6 = 366 x 7 = 426 x 8 = 486 x 9 = 54\n",
            "\n",
            "7 x 2 = 147 x 3 = 217 x 4 = 287 x 5 = 357 x 6 = 427 x 7 = 497 x 8 = 567 x 9 = 63\n",
            "\n",
            "8 x 2 = 168 x 3 = 248 x 4 = 328 x 5 = 408 x 6 = 488 x 7 = 568 x 8 = 648 x 9 = 72\n",
            "\n",
            "9 x 2 = 189 x 3 = 279 x 4 = 369 x 5 = 459 x 6 = 549 x 7 = 639 x 8 = 729 x 9 = 81\n",
            "\n"
          ]
        }
      ],
      "source": [
        "for 숫자 in range(2,10):\n",
        "    for 숫자2 in range(2,10):\n",
        "      print(숫자,\"x\", 숫자2,\"=\", 숫자*숫자2,end=\"\")\n",
        "    print(\"\\n\")"
      ]
    },
    {
      "cell_type": "code",
      "execution_count": null,
      "metadata": {
        "colab": {
          "background_save": true,
          "base_uri": "https://localhost:8080/"
        },
        "id": "D4wK94OXp0RB",
        "outputId": "e3e194a2-5ac4-40ad-d5f9-63920a7cc311"
      },
      "outputs": [
        {
          "name": "stdout",
          "output_type": "stream",
          "text": [
            "2 X 4 = 8\n",
            "3 X 4 = 12\n",
            "4 X 4 = 16\n",
            "5 X 4 = 20\n",
            "6 X 4 = 24\n",
            "7 X 4 = 28\n",
            "8 X 4 = 32\n",
            "9 X 4 = 36\n"
          ]
        }
      ],
      "source": [
        "while True:\n",
        "  입력값 = input()\n",
        "  입력숫자 = int(입력값)\n",
        "  if 입력숫자==0:\n",
        "    break\n",
        "  if 입력숫자<0 or 입력숫자>9:\n",
        "    print(\"1부터 9까지만 가능\")\n",
        "    continue\n",
        "  for 곱할숫자 in range(2,10):\n",
        "      print(곱할숫자,\"X\",입력숫자,\"=\",곱할숫자*입력숫자)"
      ]
    },
    {
      "cell_type": "code",
      "execution_count": null,
      "metadata": {
        "id": "diytjbMOp6LH"
      },
      "outputs": [],
      "source": [
        ""
      ]
    }
  ],
  "metadata": {
    "colab": {
      "collapsed_sections": [],
      "name": "0725.ipynb",
      "provenance": []
    },
    "kernelspec": {
      "display_name": "Python 3",
      "name": "python3"
    },
    "language_info": {
      "name": "python"
    }
  },
  "nbformat": 4,
  "nbformat_minor": 0
}