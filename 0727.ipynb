{
  "nbformat": 4,
  "nbformat_minor": 0,
  "metadata": {
    "colab": {
      "name": "0727.ipynb",
      "provenance": []
    },
    "kernelspec": {
      "name": "python3",
      "display_name": "Python 3"
    },
    "language_info": {
      "name": "python"
    }
  },
  "cells": [
    {
      "cell_type": "code",
      "source": [
        "while True:\n",
        "  사칙연산 = input(\"사칙연산 기호(+,-,*,/)를 입력해주세요\")\n",
        "  첫번째숫자 = int(input(\"첫번째 숫자를 입력해주세요\"))\n",
        "  두번째숫자 = int(input(\"두번째 숫자를 입력해주세요\"))\n",
        "  if 사칙연산==\"+\":\n",
        "    print(\"더하기입니다.\")\n",
        "    print(첫번째숫자+두번째숫자)\n",
        "  elif 사칙연산==\"-\":\n",
        "    print(\"빼기입니다.\")\n",
        "    print(첫번째숫자-두번째숫자)\n",
        "  elif 사칙연산==\"*\":\n",
        "    print(\"곱하기입니다.\")\n",
        "    print(첫번째숫자*두번째숫자)\n",
        "  elif 사칙연산==\"/\":\n",
        "    print(\"나누기입니다.\")\n",
        "    print(첫번째숫자/두번째숫자)\n",
        "  종료여부 = input(\"종료하려면 1을 입력해주세요\")\n",
        "  if 종료여부==\"1\":\n",
        "    print(\"종료합니다.\")\n",
        "    break"
      ],
      "metadata": {
        "id": "XSJxvb4aGheA",
        "colab": {
          "base_uri": "https://localhost:8080/"
        },
        "outputId": "ca203691-7fe6-4ddf-b2c3-54423d611949"
      },
      "execution_count": 4,
      "outputs": [
        {
          "output_type": "stream",
          "name": "stdout",
          "text": [
            "사칙연산 기호(+,-,*,/)를 입력해주세요/\n",
            "첫번째 숫자를 입력해주세요1\n",
            "두번째 숫자를 입력해주세요1\n",
            "나누기입니다.\n",
            "1.0\n",
            "종료하려면 1을 입력해주세요1\n",
            "종료합니다.\n"
          ]
        }
      ]
    },
    {
      "cell_type": "code",
      "source": [
        "def 값입력하기():\n",
        "    사칙연산 = input(\"사칙연산 기초(+ - * /)를 입력해주세요\")\n",
        "    첫번째숫자 = int(input(\"첫번째 숫자를 입력해주세요\"))\n",
        "    두번째숫자 = int(input(\"두번째 숫자를 입력해주세요\"))\n",
        "    return 사칙연산, 첫번째숫자, 두번째숫자"
      ],
      "metadata": {
        "id": "ozsA9e8nVd4j"
      },
      "execution_count": 40,
      "outputs": []
    },
    {
      "cell_type": "code",
      "source": [
        "사칙연산, 첫번째숫자, 두번째숫자 = 값입력하기()"
      ],
      "metadata": {
        "colab": {
          "base_uri": "https://localhost:8080/"
        },
        "id": "EXFk694CV3-V",
        "outputId": "bf903100-ffac-4b13-979d-455c45d6e49a"
      },
      "execution_count": 43,
      "outputs": [
        {
          "name": "stdout",
          "output_type": "stream",
          "text": [
            "사칙연산 기초(+ - * /)를 입력해주세요*\n",
            "첫번째 숫자를 입력해주세요1\n",
            "두번째 숫자를 입력해주세요1\n"
          ]
        }
      ]
    },
    {
      "cell_type": "code",
      "source": [
        "print(사칙연산, 첫번째숫자, 두번째숫자)"
      ],
      "metadata": {
        "colab": {
          "base_uri": "https://localhost:8080/"
        },
        "id": "wELR6__iWAM8",
        "outputId": "e5a9678a-496c-4343-dbed-513f54e94329"
      },
      "execution_count": 44,
      "outputs": [
        {
          "output_type": "stream",
          "name": "stdout",
          "text": [
            "* 1 1\n"
          ]
        }
      ]
    },
    {
      "cell_type": "code",
      "source": [
        "def 계산및출력(사칙연산, 첫번째숫자, 두번째숫자):\n",
        "    if 사칙연산==\"+\":\n",
        "      print(\"더하기입니다.\")\n",
        "      print(첫번째숫자+두번째숫자)\n",
        "    elif 사칙연산==\"-\":\n",
        "      print(\"빼기입니다.\")\n",
        "      print(첫번째숫자-두번째숫자)\n",
        "    elif 사칙연산==\"*\":\n",
        "      print(\"곱하기입니다.\")\n",
        "      print(첫번째숫자*두번째숫자)\n",
        "    elif 사칙연산==\"/\":\n",
        "      print(\"나누기입니다.\")\n",
        "      print(첫번째숫자/두번째숫자)"
      ],
      "metadata": {
        "id": "50lXHZiHWxCE"
      },
      "execution_count": 45,
      "outputs": []
    },
    {
      "cell_type": "code",
      "source": [
        "계산및출력(사칙연산=\"*\", 첫번째숫자=10, 두번째숫자=20)"
      ],
      "metadata": {
        "colab": {
          "base_uri": "https://localhost:8080/"
        },
        "id": "udhMDrJhXHe5",
        "outputId": "1278e7b4-6469-440f-961e-8d2c7f09e957"
      },
      "execution_count": 46,
      "outputs": [
        {
          "output_type": "stream",
          "name": "stdout",
          "text": [
            "곱하기입니다.\n",
            "200\n"
          ]
        }
      ]
    },
    {
      "cell_type": "code",
      "source": [
        "def 종료여부확인():\n",
        "    종료여부 = input(\"종료하려면 1을 입력해주세요\")\n",
        "    return 종료여부==\"1\""
      ],
      "metadata": {
        "id": "AJJxip80XXk5"
      },
      "execution_count": 47,
      "outputs": []
    },
    {
      "cell_type": "code",
      "source": [
        "종료여부확인()"
      ],
      "metadata": {
        "colab": {
          "base_uri": "https://localhost:8080/"
        },
        "id": "_O9pNQxAXpG-",
        "outputId": "f7633e45-e730-4e65-e322-08d3f1a493aa"
      },
      "execution_count": 49,
      "outputs": [
        {
          "name": "stdout",
          "output_type": "stream",
          "text": [
            "종료하려면 1을 입력해주세요1\n"
          ]
        },
        {
          "output_type": "execute_result",
          "data": {
            "text/plain": [
              "True"
            ]
          },
          "metadata": {},
          "execution_count": 49
        }
      ]
    },
    {
      "cell_type": "code",
      "source": [
        "while True:\n",
        "    기호, 첫번째숫자, 두번째숫자 = 값입력하기()\n",
        "    계산및출력(기호, 첫번째숫자, 두번째숫자)\n",
        "    종료여부 = 종료여부확인()\n",
        "    if 종료여부:\n",
        "        break"
      ],
      "metadata": {
        "colab": {
          "base_uri": "https://localhost:8080/"
        },
        "id": "feH8BpI3X6Uv",
        "outputId": "4f378cd1-f4c3-4bc3-e261-da1f9d57ab2b"
      },
      "execution_count": 52,
      "outputs": [
        {
          "name": "stdout",
          "output_type": "stream",
          "text": [
            "사칙연산 기초(+ - * /)를 입력해주세요*\n",
            "첫번째 숫자를 입력해주세요1\n",
            "두번째 숫자를 입력해주세요1\n",
            "곱하기입니다.\n",
            "1\n",
            "종료하려면 1을 입력해주세요1\n"
          ]
        }
      ]
    },
    {
      "cell_type": "code",
      "source": [
        "def 계산기():\n",
        "    while True:\n",
        "      기호, 첫번째숫자, 두번째숫자 = 값입력하기()\n",
        "      계산및출력(기호, 첫번째숫자, 두번째숫자)\n",
        "      종료여부 = 종료여부확인()\n",
        "      if 종료여부:\n",
        "          break"
      ],
      "metadata": {
        "id": "opnTTbuzZqgE"
      },
      "execution_count": 53,
      "outputs": []
    },
    {
      "cell_type": "code",
      "source": [
        "계산기()"
      ],
      "metadata": {
        "colab": {
          "base_uri": "https://localhost:8080/"
        },
        "id": "eRqk_vW5Zz6A",
        "outputId": "3df37b42-1c3d-41a3-8dc7-167bb3d26f80"
      },
      "execution_count": 83,
      "outputs": [
        {
          "name": "stdout",
          "output_type": "stream",
          "text": [
            "사칙연산 기초(+ - * /)를 입력해주세요+\n",
            "첫번째 숫자를 입력해주세요1\n",
            "두번째 숫자를 입력해주세요1\n",
            "더하기입니다.\n",
            "2\n",
            "종료하려면 1을 입력해주세요1\n"
          ]
        }
      ]
    },
    {
      "cell_type": "code",
      "source": [
        "def hello():\n",
        "    print(\"안녕하세요\")"
      ],
      "metadata": {
        "id": "xVsw9SlMIY9x"
      },
      "execution_count": 56,
      "outputs": []
    },
    {
      "cell_type": "code",
      "source": [
        "hello()"
      ],
      "metadata": {
        "colab": {
          "base_uri": "https://localhost:8080/"
        },
        "id": "m3greoYzLFa6",
        "outputId": "92d1e3f8-31f9-47b9-b743-2023a01b169c"
      },
      "execution_count": 57,
      "outputs": [
        {
          "output_type": "stream",
          "name": "stdout",
          "text": [
            "안녕하세요\n"
          ]
        }
      ]
    },
    {
      "cell_type": "code",
      "source": [
        "def helloToName(name):\n",
        "    print(name,\"님 안녕하세요\")"
      ],
      "metadata": {
        "id": "DsDPkc8kLLjk"
      },
      "execution_count": 58,
      "outputs": []
    },
    {
      "cell_type": "code",
      "source": [
        "helloToName(\"윤지환\")"
      ],
      "metadata": {
        "colab": {
          "base_uri": "https://localhost:8080/"
        },
        "id": "khOINwfdLa9K",
        "outputId": "ddbd231e-57df-4411-db74-e9b671d9e3e4"
      },
      "execution_count": 59,
      "outputs": [
        {
          "output_type": "stream",
          "name": "stdout",
          "text": [
            "윤지환 님 안녕하세요\n"
          ]
        }
      ]
    },
    {
      "cell_type": "code",
      "source": [
        "def add(num,num2):\n",
        "    result = num+num2"
      ],
      "metadata": {
        "id": "ymXiVZ5eLeQx"
      },
      "execution_count": 60,
      "outputs": []
    },
    {
      "cell_type": "code",
      "source": [
        "add(1,2)"
      ],
      "metadata": {
        "id": "0lNJGHEGL2KW"
      },
      "execution_count": 61,
      "outputs": []
    },
    {
      "cell_type": "code",
      "source": [
        "addResult = add(1,2)"
      ],
      "metadata": {
        "id": "mNkYUxLyL3gU"
      },
      "execution_count": 62,
      "outputs": []
    },
    {
      "cell_type": "code",
      "source": [
        "print(addResult)"
      ],
      "metadata": {
        "colab": {
          "base_uri": "https://localhost:8080/"
        },
        "id": "-j6vsXsMMCGy",
        "outputId": "6d01dc61-48f4-402b-e99b-5e7eba35b7cc"
      },
      "execution_count": 63,
      "outputs": [
        {
          "output_type": "stream",
          "name": "stdout",
          "text": [
            "None\n"
          ]
        }
      ]
    },
    {
      "cell_type": "code",
      "source": [
        "def add2(num,num2):\n",
        "    result = num+num2\n",
        "    return result"
      ],
      "metadata": {
        "id": "oZ5M9MiFMDfC"
      },
      "execution_count": 64,
      "outputs": []
    },
    {
      "cell_type": "code",
      "source": [
        "addResult2 = add2(1,2)\n",
        "print(addResult2)"
      ],
      "metadata": {
        "colab": {
          "base_uri": "https://localhost:8080/"
        },
        "id": "wJ_odrx_MNdZ",
        "outputId": "0ffc9854-3c37-4fac-f671-01e36cce2277"
      },
      "execution_count": 65,
      "outputs": [
        {
          "output_type": "stream",
          "name": "stdout",
          "text": [
            "3\n"
          ]
        }
      ]
    },
    {
      "cell_type": "code",
      "source": [
        ""
      ],
      "metadata": {
        "id": "hTq0TA05NcJQ"
      },
      "execution_count": 65,
      "outputs": []
    },
    {
      "cell_type": "code",
      "source": [
        "def add3(num,num2):\n",
        "    result = num+num2\n",
        "    return result\n",
        "    print(\"hi\")\n",
        "add3(1,2)"
      ],
      "metadata": {
        "colab": {
          "base_uri": "https://localhost:8080/"
        },
        "id": "tf9o8w3RMVPn",
        "outputId": "12d09055-3257-42d8-d95f-c55b044b2290"
      },
      "execution_count": 66,
      "outputs": [
        {
          "output_type": "execute_result",
          "data": {
            "text/plain": [
              "3"
            ]
          },
          "metadata": {},
          "execution_count": 66
        }
      ]
    },
    {
      "cell_type": "code",
      "source": [
        "def x빼기y(y,x):\n",
        "    뺄셈결과 = x - y\n",
        "    print(뺄셈결과)\n",
        "x빼기y(20,10)\n",
        "#매개변수를 함수에 넣을때\n",
        "#매개변수명을 지정할 수 있다.\n",
        "x빼기y(x=20,y=10)"
      ],
      "metadata": {
        "colab": {
          "base_uri": "https://localhost:8080/"
        },
        "id": "j_5ikVM4Nzio",
        "outputId": "1f31aef2-2d6c-459d-8e03-f930dcbab442"
      },
      "execution_count": 67,
      "outputs": [
        {
          "output_type": "stream",
          "name": "stdout",
          "text": [
            "-10\n",
            "10\n"
          ]
        }
      ]
    },
    {
      "cell_type": "code",
      "source": [
        "def 덧셈뺄셈(x,y):\n",
        "    덧셈결과 = x+y\n",
        "    뺄셈결과 = x-y\n",
        "    return 덧셈결과, 뺄셈결과"
      ],
      "metadata": {
        "id": "y05rZZ_9N-Xr"
      },
      "execution_count": 68,
      "outputs": []
    },
    {
      "cell_type": "code",
      "source": [
        "결과 = 덧셈뺄셈(1,2)\n",
        "print(결과)"
      ],
      "metadata": {
        "colab": {
          "base_uri": "https://localhost:8080/"
        },
        "id": "0CKq0iZeTJlG",
        "outputId": "8b0c31d3-d1d7-4f86-9358-70412e5cfeac"
      },
      "execution_count": 69,
      "outputs": [
        {
          "output_type": "stream",
          "name": "stdout",
          "text": [
            "(3, -1)\n"
          ]
        }
      ]
    },
    {
      "cell_type": "code",
      "source": [
        "def 덧셈뺄셈(x,y):\n",
        "    덧셈결과 = x+y\n",
        "    뺄셈결과 = x-y\n",
        "    return 덧셈결과, 뺄셈결과"
      ],
      "metadata": {
        "id": "p4ErUWI9T-jS"
      },
      "execution_count": 70,
      "outputs": []
    },
    {
      "cell_type": "code",
      "source": [
        "함수실행결과 = 덧셈뺄셈(20,10)"
      ],
      "metadata": {
        "id": "dMmo4LXFTQcN"
      },
      "execution_count": 71,
      "outputs": []
    },
    {
      "cell_type": "code",
      "source": [
        "print(함수실행결과)"
      ],
      "metadata": {
        "colab": {
          "base_uri": "https://localhost:8080/"
        },
        "id": "gA6K_sG3Tloe",
        "outputId": "8f4248ab-5444-4f0c-832b-1a9755202110"
      },
      "execution_count": 72,
      "outputs": [
        {
          "output_type": "stream",
          "name": "stdout",
          "text": [
            "(30, 10)\n"
          ]
        }
      ]
    },
    {
      "cell_type": "code",
      "source": [
        "print(type(함수실행결과))"
      ],
      "metadata": {
        "colab": {
          "base_uri": "https://localhost:8080/"
        },
        "id": "ZbH2DJvoTnvN",
        "outputId": "c8302924-1121-4ce1-d278-0054bc8d9c5f"
      },
      "execution_count": 73,
      "outputs": [
        {
          "output_type": "stream",
          "name": "stdout",
          "text": [
            "<class 'tuple'>\n"
          ]
        }
      ]
    },
    {
      "cell_type": "code",
      "source": [
        "print(함수실행결과[0],함수실행결과[1])"
      ],
      "metadata": {
        "colab": {
          "base_uri": "https://localhost:8080/"
        },
        "id": "w4mUBNkYTsGK",
        "outputId": "5fdc0375-a86d-4338-fc32-6ffe0ca39c51"
      },
      "execution_count": 74,
      "outputs": [
        {
          "output_type": "stream",
          "name": "stdout",
          "text": [
            "30 10\n"
          ]
        }
      ]
    },
    {
      "cell_type": "code",
      "source": [
        "덧셈결과 = 함수실행결과[0]"
      ],
      "metadata": {
        "id": "qY2ZVOu0T5ND"
      },
      "execution_count": 75,
      "outputs": []
    },
    {
      "cell_type": "code",
      "source": [
        "뺄셈결과 = 함수실행결과[1]"
      ],
      "metadata": {
        "id": "Xm14cAXrUDY_"
      },
      "execution_count": 76,
      "outputs": []
    },
    {
      "cell_type": "code",
      "source": [
        "print(덧셈결과)"
      ],
      "metadata": {
        "colab": {
          "base_uri": "https://localhost:8080/"
        },
        "id": "CtgHPo1DUGcF",
        "outputId": "1ff37609-e189-4af7-aefc-03b6bbe73e7d"
      },
      "execution_count": 77,
      "outputs": [
        {
          "output_type": "stream",
          "name": "stdout",
          "text": [
            "30\n"
          ]
        }
      ]
    },
    {
      "cell_type": "code",
      "source": [
        "print(뺄셈결과)"
      ],
      "metadata": {
        "colab": {
          "base_uri": "https://localhost:8080/"
        },
        "id": "FZsHnl1ZUIxv",
        "outputId": "93acb1c7-5224-4abc-bfeb-a32bb618496a"
      },
      "execution_count": 78,
      "outputs": [
        {
          "output_type": "stream",
          "name": "stdout",
          "text": [
            "10\n"
          ]
        }
      ]
    },
    {
      "cell_type": "code",
      "source": [
        "튜플값1, 튜플값2 = (1,2)"
      ],
      "metadata": {
        "id": "9uKCyJBVUKL7"
      },
      "execution_count": 79,
      "outputs": []
    },
    {
      "cell_type": "code",
      "source": [
        "print(튜플값1)"
      ],
      "metadata": {
        "colab": {
          "base_uri": "https://localhost:8080/"
        },
        "id": "OyfltA2KUZss",
        "outputId": "0a078fb0-24d8-4579-d928-108aa22d3a75"
      },
      "execution_count": 80,
      "outputs": [
        {
          "output_type": "stream",
          "name": "stdout",
          "text": [
            "1\n"
          ]
        }
      ]
    },
    {
      "cell_type": "code",
      "source": [
        "덧셈결과, 뺄셈결과 = 덧셈뺄셈(20,10)"
      ],
      "metadata": {
        "id": "qW0QXWriUbUr"
      },
      "execution_count": 81,
      "outputs": []
    },
    {
      "cell_type": "code",
      "source": [
        "print(덧셈결과)\n",
        "print(뺄셈결과)"
      ],
      "metadata": {
        "colab": {
          "base_uri": "https://localhost:8080/"
        },
        "id": "CApOLu8iUf8i",
        "outputId": "81616d7c-ef3d-494d-feb3-138427cb754b"
      },
      "execution_count": 82,
      "outputs": [
        {
          "output_type": "stream",
          "name": "stdout",
          "text": [
            "30\n",
            "10\n"
          ]
        }
      ]
    },
    {
      "cell_type": "code",
      "source": [
        "num = 1\n",
        "print(type(num))"
      ],
      "metadata": {
        "colab": {
          "base_uri": "https://localhost:8080/"
        },
        "id": "OZsTMmr0Uj2F",
        "outputId": "706e586c-18b7-48b1-dbf0-26329b1132d0"
      },
      "execution_count": 84,
      "outputs": [
        {
          "output_type": "stream",
          "name": "stdout",
          "text": [
            "<class 'int'>\n"
          ]
        }
      ]
    },
    {
      "cell_type": "code",
      "source": [
        "string = \"hello\"\n",
        "print(type(string))"
      ],
      "metadata": {
        "colab": {
          "base_uri": "https://localhost:8080/"
        },
        "id": "gjzWE-bii0RJ",
        "outputId": "5ec2a9c6-a3a1-47c9-b9e8-69979c6f9fa7"
      },
      "execution_count": 85,
      "outputs": [
        {
          "output_type": "stream",
          "name": "stdout",
          "text": [
            "<class 'str'>\n"
          ]
        }
      ]
    },
    {
      "cell_type": "code",
      "source": [
        "class Animal:\n",
        "  pass"
      ],
      "metadata": {
        "id": "E9hAssoai-BK"
      },
      "execution_count": 86,
      "outputs": []
    },
    {
      "cell_type": "code",
      "source": [
        "animal = Animal()\n",
        "print(type(animal))"
      ],
      "metadata": {
        "colab": {
          "base_uri": "https://localhost:8080/"
        },
        "id": "B3SPgZxejfQz",
        "outputId": "516f3794-0c48-4945-d12e-fe6487e5a2b8"
      },
      "execution_count": 87,
      "outputs": [
        {
          "output_type": "stream",
          "name": "stdout",
          "text": [
            "<class '__main__.Animal'>\n"
          ]
        }
      ]
    },
    {
      "cell_type": "code",
      "source": [
        "class Animal:\n",
        "    kor = \"동물\"\n",
        "    def 숨쉬기():\n",
        "        print(\"숨을 쉽니다\")\n",
        "    def 움직이기():\n",
        "        print(\"몸을 움직입니다\")"
      ],
      "metadata": {
        "id": "MwxVQyEJjuCh"
      },
      "execution_count": 90,
      "outputs": []
    },
    {
      "cell_type": "code",
      "source": [
        "개 = Animal()\n",
        "print(type(개))\n",
        "Animal.숨쉬기()\n",
        "Animal.움직이기()\n",
        "print(\"=====================\")\n",
        "개.숨쉬기()\n",
        "개.움직이기()"
      ],
      "metadata": {
        "colab": {
          "base_uri": "https://localhost:8080/",
          "height": 300
        },
        "id": "DZn4vPAlkRxy",
        "outputId": "74a7b853-6ec3-4032-d058-0776f4758f5e"
      },
      "execution_count": 91,
      "outputs": [
        {
          "output_type": "stream",
          "name": "stdout",
          "text": [
            "<class '__main__.Animal'>\n",
            "숨을 쉽니다\n",
            "몸을 움직입니다\n",
            "=====================\n"
          ]
        },
        {
          "output_type": "error",
          "ename": "TypeError",
          "evalue": "ignored",
          "traceback": [
            "\u001b[0;31m---------------------------------------------------------------------------\u001b[0m",
            "\u001b[0;31mTypeError\u001b[0m                                 Traceback (most recent call last)",
            "\u001b[0;32m<ipython-input-91-09a2c35f531b>\u001b[0m in \u001b[0;36m<module>\u001b[0;34m()\u001b[0m\n\u001b[1;32m      4\u001b[0m \u001b[0mAnimal\u001b[0m\u001b[0;34m.\u001b[0m\u001b[0m움직이기\u001b[0m\u001b[0;34m(\u001b[0m\u001b[0;34m)\u001b[0m\u001b[0;34m\u001b[0m\u001b[0;34m\u001b[0m\u001b[0m\n\u001b[1;32m      5\u001b[0m \u001b[0mprint\u001b[0m\u001b[0;34m(\u001b[0m\u001b[0;34m\"=====================\"\u001b[0m\u001b[0;34m)\u001b[0m\u001b[0;34m\u001b[0m\u001b[0;34m\u001b[0m\u001b[0m\n\u001b[0;32m----> 6\u001b[0;31m \u001b[0m개\u001b[0m\u001b[0;34m.\u001b[0m\u001b[0m숨쉬기\u001b[0m\u001b[0;34m(\u001b[0m\u001b[0;34m)\u001b[0m\u001b[0;34m\u001b[0m\u001b[0;34m\u001b[0m\u001b[0m\n\u001b[0m\u001b[1;32m      7\u001b[0m \u001b[0m개\u001b[0m\u001b[0;34m.\u001b[0m\u001b[0m움직이기\u001b[0m\u001b[0;34m(\u001b[0m\u001b[0;34m)\u001b[0m\u001b[0;34m\u001b[0m\u001b[0;34m\u001b[0m\u001b[0m\n",
            "\u001b[0;31mTypeError\u001b[0m: 숨쉬기() takes 0 positional arguments but 1 was given"
          ]
        }
      ]
    },
    {
      "cell_type": "code",
      "source": [
        "class Animal:\n",
        "    kor = \"동물\"\n",
        "    def 숨쉬기(self):\n",
        "        print(\"숨을 쉽니다\")\n",
        "    def 움직이기(self):\n",
        "        print(\"몸을 움직입니다\")\n",
        "    def 말하기(self, 문장):\n",
        "        print(문장)\n",
        "animal = Animal()\n",
        "animal.숨쉬기()\n",
        "animal.움직이기()\n",
        "animal.말하기(\"안녕하세요\")\n",
        "print(animal.kor)"
      ],
      "metadata": {
        "colab": {
          "base_uri": "https://localhost:8080/"
        },
        "id": "DtH1o5UZkgxv",
        "outputId": "09d84905-cc27-48ab-8a04-c2546fbe1a26"
      },
      "execution_count": 94,
      "outputs": [
        {
          "output_type": "stream",
          "name": "stdout",
          "text": [
            "숨을 쉽니다\n",
            "몸을 움직입니다\n",
            "안녕하세요\n",
            "동물\n"
          ]
        }
      ]
    },
    {
      "cell_type": "code",
      "source": [
        "class Animal:\n",
        "    kor = \"동물\"\n",
        "    def __init__(self):\n",
        "        print(\"태어났습니다\")\n",
        "    def 숨쉬기(self):\n",
        "        print(\"숨을 쉽니다\")\n",
        "    def 움직이기(self):\n",
        "        print(\"몸을 움직입니다\")\n",
        "    def 말하기(self, 문장):\n",
        "        print(문장)\n",
        "    def __del__(self):\n",
        "        print(\"죽었습니다.\")\n",
        "animal = Animal()\n",
        "print(\"==================\")\n",
        "del animal"
      ],
      "metadata": {
        "colab": {
          "base_uri": "https://localhost:8080/"
        },
        "id": "YDtJqBuplfyf",
        "outputId": "718762a9-ecd5-473b-d1c6-cab783b46971"
      },
      "execution_count": 119,
      "outputs": [
        {
          "output_type": "stream",
          "name": "stdout",
          "text": [
            "태어났습니다\n",
            "==================\n",
            "죽었습니다.\n",
            "죽었습니다.\n"
          ]
        }
      ]
    },
    {
      "cell_type": "code",
      "source": [
        "class Animal:\n",
        "    def __init__(self,키,생일):\n",
        "        self.키 = 키\n",
        "        self.생일 = 생일\n",
        "        print(\"태어났습니다\")\n",
        "    def 키얻기(self):\n",
        "        print(f\"키는 {self.키}cm 입니다\")\n",
        "    def 생일얻기(self):\n",
        "        print(f\"생일은 {self.생일} 입니다,\")\n",
        "    def 숨쉬기(self):\n",
        "        print(\"숨을 쉽니다\")\n",
        "    def 움직이기(self):\n",
        "        print(\"몸을 움직입니다\")\n",
        "    def 말하기(self, 문장):\n",
        "        print(문장)\n",
        "    def __del__(self):\n",
        "        print(\"죽었습니다.\")"
      ],
      "metadata": {
        "id": "Qz5v0hYjmKmZ"
      },
      "execution_count": 132,
      "outputs": []
    },
    {
      "cell_type": "code",
      "source": [
        "animal = Animal(키=30, 생일=20220219)\n",
        "print(animal.키)\n",
        "animal.키얻기()"
      ],
      "metadata": {
        "colab": {
          "base_uri": "https://localhost:8080/"
        },
        "id": "uUJNbpjspGFT",
        "outputId": "b8269cd5-ad0f-4d0b-d5dd-58e6961ac91f"
      },
      "execution_count": 133,
      "outputs": [
        {
          "output_type": "stream",
          "name": "stdout",
          "text": [
            "태어났습니다\n",
            "30\n",
            "키는 30cm 입니다\n"
          ]
        }
      ]
    },
    {
      "cell_type": "code",
      "source": [
        "animal.키 = 2"
      ],
      "metadata": {
        "id": "TkzExCwupf0N"
      },
      "execution_count": 134,
      "outputs": []
    },
    {
      "cell_type": "code",
      "source": [
        "animal.키얻기()"
      ],
      "metadata": {
        "colab": {
          "base_uri": "https://localhost:8080/"
        },
        "id": "r9IjOfz2pjB9",
        "outputId": "0e3f8c2d-3c89-4c37-a6a9-b5e4f9506be2"
      },
      "execution_count": 135,
      "outputs": [
        {
          "output_type": "stream",
          "name": "stdout",
          "text": [
            "키는 2cm 입니다\n"
          ]
        }
      ]
    },
    {
      "cell_type": "code",
      "source": [
        "dir(animal)"
      ],
      "metadata": {
        "colab": {
          "base_uri": "https://localhost:8080/"
        },
        "id": "rMpMRzzBpkna",
        "outputId": "11a808bb-ed0e-4d5e-ddf2-7d3adbbccee6"
      },
      "execution_count": 136,
      "outputs": [
        {
          "output_type": "execute_result",
          "data": {
            "text/plain": [
              "['__class__',\n",
              " '__del__',\n",
              " '__delattr__',\n",
              " '__dict__',\n",
              " '__dir__',\n",
              " '__doc__',\n",
              " '__eq__',\n",
              " '__format__',\n",
              " '__ge__',\n",
              " '__getattribute__',\n",
              " '__gt__',\n",
              " '__hash__',\n",
              " '__init__',\n",
              " '__init_subclass__',\n",
              " '__le__',\n",
              " '__lt__',\n",
              " '__module__',\n",
              " '__ne__',\n",
              " '__new__',\n",
              " '__reduce__',\n",
              " '__reduce_ex__',\n",
              " '__repr__',\n",
              " '__setattr__',\n",
              " '__sizeof__',\n",
              " '__str__',\n",
              " '__subclasshook__',\n",
              " '__weakref__',\n",
              " '말하기',\n",
              " '생일',\n",
              " '생일얻기',\n",
              " '숨쉬기',\n",
              " '움직이기',\n",
              " '키',\n",
              " '키얻기']"
            ]
          },
          "metadata": {},
          "execution_count": 136
        }
      ]
    },
    {
      "cell_type": "code",
      "source": [
        "print(type(animal.말하기))"
      ],
      "metadata": {
        "colab": {
          "base_uri": "https://localhost:8080/"
        },
        "id": "4z-SXM5vqTnY",
        "outputId": "6354a909-b79f-453a-b1f6-da37c1012e65"
      },
      "execution_count": 137,
      "outputs": [
        {
          "output_type": "stream",
          "name": "stdout",
          "text": [
            "<class 'method'>\n"
          ]
        }
      ]
    },
    {
      "cell_type": "code",
      "source": [
        "del animal"
      ],
      "metadata": {
        "colab": {
          "base_uri": "https://localhost:8080/"
        },
        "id": "2aHMv4nfsLxB",
        "outputId": "265523ff-1215-4476-8e2d-2d936344e6c6"
      },
      "execution_count": 138,
      "outputs": [
        {
          "output_type": "stream",
          "name": "stdout",
          "text": [
            "죽었습니다.\n"
          ]
        }
      ]
    },
    {
      "cell_type": "code",
      "source": [
        "class 개(Animal):\n",
        "    def 짖기(self):\n",
        "        print(\"멍\")"
      ],
      "metadata": {
        "id": "Yaqjv3UrqnqV"
      },
      "execution_count": 139,
      "outputs": []
    },
    {
      "cell_type": "code",
      "source": [
        "요크셔 = 개(키=30, 생일=\"오늘\")\n",
        "요크셔.짖기()"
      ],
      "metadata": {
        "colab": {
          "base_uri": "https://localhost:8080/"
        },
        "id": "sCxiAyy3q5M6",
        "outputId": "efbaef5b-970c-4f55-dc27-e949de6cc201"
      },
      "execution_count": 140,
      "outputs": [
        {
          "output_type": "stream",
          "name": "stdout",
          "text": [
            "태어났습니다\n",
            "멍\n"
          ]
        }
      ]
    },
    {
      "cell_type": "code",
      "source": [
        "요크셔.키얻기()"
      ],
      "metadata": {
        "colab": {
          "base_uri": "https://localhost:8080/"
        },
        "id": "f2LEL4a9q_YY",
        "outputId": "8b620c6b-9070-471c-f350-c636fdbab2b5"
      },
      "execution_count": 141,
      "outputs": [
        {
          "output_type": "stream",
          "name": "stdout",
          "text": [
            "키는 30cm 입니다\n"
          ]
        }
      ]
    },
    {
      "cell_type": "code",
      "source": [
        "del 요크셔"
      ],
      "metadata": {
        "id": "xwCAtUKNrUVZ"
      },
      "execution_count": 142,
      "outputs": []
    },
    {
      "cell_type": "code",
      "source": [
        ""
      ],
      "metadata": {
        "id": "n9xhWI-Mrn83"
      },
      "execution_count": null,
      "outputs": []
    }
  ]
}